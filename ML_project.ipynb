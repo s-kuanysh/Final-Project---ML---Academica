{
 "cells": [
  {
   "cell_type": "code",
   "execution_count": 1,
   "id": "7fa23b37-5f56-4863-be7c-4c2b375257bb",
   "metadata": {},
   "outputs": [],
   "source": [
    "# все нужные библиотеки\n",
    "# можете дополнить список если считаете нужным\n",
    "import numpy as np\n",
    "import pandas as pd\n",
    "\n",
    "from sklearn.model_selection import train_test_split\n",
    "from sklearn.model_selection import GridSearchCV\n",
    "\n",
    "from sklearn.preprocessing import MinMaxScaler\n",
    "from sklearn.preprocessing import StandardScaler\n",
    "from sklearn.preprocessing import OneHotEncoder\n",
    "\n",
    "from sklearn.metrics import accuracy_score\n",
    "from sklearn.metrics import mean_squared_error as MSE\n",
    "from sklearn.metrics import classification_report\n",
    "from sklearn.metrics import confusion_matrix\n",
    "\n",
    "from sklearn.linear_model import LogisticRegression\n",
    "from sklearn.linear_model import LinearRegression\n",
    "from statsmodels.regression.linear_model import OLS\n",
    "\n",
    "from sklearn.decomposition import PCA\n",
    "from sklearn.svm import SVC\n",
    "from sklearn.neighbors import KNeighborsClassifier\n",
    "\n",
    "from sklearn.tree import DecisionTreeClassifier\n",
    "from sklearn.ensemble import RandomForestClassifier\n",
    "from sklearn.ensemble import AdaBoostClassifier\n",
    "from sklearn.ensemble import GradientBoostingClassifier\n",
    "from lightgbm import LGBMClassifier\n",
    "import xgboost as xgb\n",
    "\n",
    "from sklearn.compose import ColumnTransformer\n",
    "\n",
    "from sklearn.metrics import mean_squared_error\n",
    "import statsmodels.api as sm\n",
    "\n",
    "import plotly.graph_objs as go\n",
    "import matplotlib.pyplot as plt\n",
    "import seaborn as sns"
   ]
  },
  {
   "cell_type": "markdown",
   "id": "989fa8d0-5220-4c98-856f-52a3d6723902",
   "metadata": {},
   "source": [
    "### Проект:\n",
    "Заказчик передал вам данные: суммы транзакции клиентов и какие-то признаки<br>\n",
    "Все данные хранятся в файле train_dataset.csv, где суммы транзакций размещены под колонкой \"int_target\". Как вы уже догадались это и будет таргет который нам нужно будет предсказать.<br>\n",
    "Не терпится начать? Мне тоже, но для начала вводная касательно этого проекта, тоже будет интересно."
   ]
  },
  {
   "cell_type": "markdown",
   "id": "ec659810-db58-4dd8-bed4-81cbb1106f18",
   "metadata": {},
   "source": [
    "Хотя перед вами стоит одна задача весь проект будет поделён на несколько подпунктов для вашего удобства.<br>\n",
    "Каждый из подпунктов будет просить вас выполнить какое-то задание, но как вы его выполните будет зависеть только от вас. Ведь как вы уже\n",
    "убедились в дата-саинсе, да и в целом питоне много разных подходов для одной проблемы.<br>\n",
    "\n",
    "В целом вы можете написать полностью свой код, главное в итоге построить модель. А убедиться в том что ваша модель хороша нам поможет Kaggle.<br>\n",
    "Да-да, в этом проекте вы сможете сдать свои результаты в Kaggle и получить свой балл.<br>\n",
    "Ну, а теперь пора начинать"
   ]
  },
  {
   "cell_type": "markdown",
   "id": "08826869",
   "metadata": {},
   "source": [
    "1) Для начала импортируйте данные из файла dataset.csv, назовите ваш датасет \"dataset\""
   ]
  },
  {
   "cell_type": "code",
   "execution_count": 2,
   "id": "96fa8eab-d100-48f3-b6c0-001d091149fc",
   "metadata": {},
   "outputs": [],
   "source": [
    "dataset = pd.read_csv(\"train_dataset.csv\")"
   ]
  },
  {
   "cell_type": "code",
   "execution_count": 3,
   "id": "f128ad39-d167-4f75-8bbd-3c605c3a6c8f",
   "metadata": {},
   "outputs": [
    {
     "data": {
      "text/html": [
       "<div>\n",
       "<style scoped>\n",
       "    .dataframe tbody tr th:only-of-type {\n",
       "        vertical-align: middle;\n",
       "    }\n",
       "\n",
       "    .dataframe tbody tr th {\n",
       "        vertical-align: top;\n",
       "    }\n",
       "\n",
       "    .dataframe thead th {\n",
       "        text-align: right;\n",
       "    }\n",
       "</style>\n",
       "<table border=\"1\" class=\"dataframe\">\n",
       "  <thead>\n",
       "    <tr style=\"text-align: right;\">\n",
       "      <th></th>\n",
       "      <th>feature_1</th>\n",
       "      <th>feature_2</th>\n",
       "      <th>feature_3</th>\n",
       "      <th>feature_4</th>\n",
       "      <th>feature_5</th>\n",
       "      <th>feature_6</th>\n",
       "      <th>feature_7</th>\n",
       "      <th>feature_8</th>\n",
       "      <th>feature_9</th>\n",
       "      <th>feature_10</th>\n",
       "      <th>...</th>\n",
       "      <th>feature_12</th>\n",
       "      <th>feature_13</th>\n",
       "      <th>feature_14</th>\n",
       "      <th>feature_15</th>\n",
       "      <th>feature_16</th>\n",
       "      <th>feature_17</th>\n",
       "      <th>feature_18</th>\n",
       "      <th>feature_19</th>\n",
       "      <th>feature_20</th>\n",
       "      <th>int_target</th>\n",
       "    </tr>\n",
       "  </thead>\n",
       "  <tbody>\n",
       "    <tr>\n",
       "      <th>0</th>\n",
       "      <td>-0.043457</td>\n",
       "      <td>-0.027918</td>\n",
       "      <td>1.473594</td>\n",
       "      <td>-10.309556</td>\n",
       "      <td>-1.000000</td>\n",
       "      <td>145.373247</td>\n",
       "      <td>0.001888</td>\n",
       "      <td>2.555947</td>\n",
       "      <td>-64.208613</td>\n",
       "      <td>0.470329</td>\n",
       "      <td>...</td>\n",
       "      <td>B</td>\n",
       "      <td>83.317907</td>\n",
       "      <td>85.385030</td>\n",
       "      <td>120.550153</td>\n",
       "      <td>59.736520</td>\n",
       "      <td>64.325558</td>\n",
       "      <td>107.833753</td>\n",
       "      <td>85.853573</td>\n",
       "      <td>104.466108</td>\n",
       "      <td>17353</td>\n",
       "    </tr>\n",
       "    <tr>\n",
       "      <th>1</th>\n",
       "      <td>-1.535978</td>\n",
       "      <td>0.999851</td>\n",
       "      <td>23.019753</td>\n",
       "      <td>38.430092</td>\n",
       "      <td>1.000000</td>\n",
       "      <td>-110.045207</td>\n",
       "      <td>2.359228</td>\n",
       "      <td>0.571917</td>\n",
       "      <td>-110.318854</td>\n",
       "      <td>-2.620978</td>\n",
       "      <td>...</td>\n",
       "      <td>D</td>\n",
       "      <td>114.881621</td>\n",
       "      <td>79.711086</td>\n",
       "      <td>68.505986</td>\n",
       "      <td>116.330797</td>\n",
       "      <td>75.365722</td>\n",
       "      <td>104.229006</td>\n",
       "      <td>90.842232</td>\n",
       "      <td>95.232654</td>\n",
       "      <td>1214</td>\n",
       "    </tr>\n",
       "    <tr>\n",
       "      <th>2</th>\n",
       "      <td>11.567708</td>\n",
       "      <td>0.608310</td>\n",
       "      <td>1.873323</td>\n",
       "      <td>6.412821</td>\n",
       "      <td>0.999995</td>\n",
       "      <td>-280.186852</td>\n",
       "      <td>133.811870</td>\n",
       "      <td>1.160380</td>\n",
       "      <td>-206.238816</td>\n",
       "      <td>-1.006502</td>\n",
       "      <td>...</td>\n",
       "      <td>B</td>\n",
       "      <td>145.833459</td>\n",
       "      <td>115.159171</td>\n",
       "      <td>64.417992</td>\n",
       "      <td>98.846694</td>\n",
       "      <td>66.381070</td>\n",
       "      <td>82.118547</td>\n",
       "      <td>96.837671</td>\n",
       "      <td>103.887599</td>\n",
       "      <td>16094</td>\n",
       "    </tr>\n",
       "    <tr>\n",
       "      <th>3</th>\n",
       "      <td>9.220074</td>\n",
       "      <td>0.999864</td>\n",
       "      <td>5.041939</td>\n",
       "      <td>-12.692120</td>\n",
       "      <td>-1.000000</td>\n",
       "      <td>164.773793</td>\n",
       "      <td>85.009772</td>\n",
       "      <td>-1.401234</td>\n",
       "      <td>92.624296</td>\n",
       "      <td>2.712139</td>\n",
       "      <td>...</td>\n",
       "      <td>C</td>\n",
       "      <td>98.150579</td>\n",
       "      <td>78.620349</td>\n",
       "      <td>120.176496</td>\n",
       "      <td>104.297092</td>\n",
       "      <td>89.318362</td>\n",
       "      <td>73.791588</td>\n",
       "      <td>71.870016</td>\n",
       "      <td>68.397346</td>\n",
       "      <td>24168</td>\n",
       "    </tr>\n",
       "    <tr>\n",
       "      <th>4</th>\n",
       "      <td>-3.025434</td>\n",
       "      <td>-0.594711</td>\n",
       "      <td>5.912259</td>\n",
       "      <td>-14.922129</td>\n",
       "      <td>-1.000000</td>\n",
       "      <td>9.546673</td>\n",
       "      <td>9.153251</td>\n",
       "      <td>-0.157479</td>\n",
       "      <td>-175.895074</td>\n",
       "      <td>-0.832795</td>\n",
       "      <td>...</td>\n",
       "      <td>C</td>\n",
       "      <td>94.519135</td>\n",
       "      <td>123.286154</td>\n",
       "      <td>75.458961</td>\n",
       "      <td>111.831234</td>\n",
       "      <td>111.871202</td>\n",
       "      <td>99.733563</td>\n",
       "      <td>100.697358</td>\n",
       "      <td>97.568328</td>\n",
       "      <td>1105</td>\n",
       "    </tr>\n",
       "  </tbody>\n",
       "</table>\n",
       "<p>5 rows × 21 columns</p>\n",
       "</div>"
      ],
      "text/plain": [
       "   feature_1  feature_2  feature_3  feature_4  feature_5   feature_6  \\\n",
       "0  -0.043457  -0.027918   1.473594 -10.309556  -1.000000  145.373247   \n",
       "1  -1.535978   0.999851  23.019753  38.430092   1.000000 -110.045207   \n",
       "2  11.567708   0.608310   1.873323   6.412821   0.999995 -280.186852   \n",
       "3   9.220074   0.999864   5.041939 -12.692120  -1.000000  164.773793   \n",
       "4  -3.025434  -0.594711   5.912259 -14.922129  -1.000000    9.546673   \n",
       "\n",
       "    feature_7  feature_8   feature_9  feature_10  ...  feature_12  feature_13  \\\n",
       "0    0.001888   2.555947  -64.208613    0.470329  ...           B   83.317907   \n",
       "1    2.359228   0.571917 -110.318854   -2.620978  ...           D  114.881621   \n",
       "2  133.811870   1.160380 -206.238816   -1.006502  ...           B  145.833459   \n",
       "3   85.009772  -1.401234   92.624296    2.712139  ...           C   98.150579   \n",
       "4    9.153251  -0.157479 -175.895074   -0.832795  ...           C   94.519135   \n",
       "\n",
       "   feature_14  feature_15  feature_16  feature_17  feature_18  feature_19  \\\n",
       "0   85.385030  120.550153   59.736520   64.325558  107.833753   85.853573   \n",
       "1   79.711086   68.505986  116.330797   75.365722  104.229006   90.842232   \n",
       "2  115.159171   64.417992   98.846694   66.381070   82.118547   96.837671   \n",
       "3   78.620349  120.176496  104.297092   89.318362   73.791588   71.870016   \n",
       "4  123.286154   75.458961  111.831234  111.871202   99.733563  100.697358   \n",
       "\n",
       "   feature_20  int_target  \n",
       "0  104.466108       17353  \n",
       "1   95.232654        1214  \n",
       "2  103.887599       16094  \n",
       "3   68.397346       24168  \n",
       "4   97.568328        1105  \n",
       "\n",
       "[5 rows x 21 columns]"
      ]
     },
     "execution_count": 3,
     "metadata": {},
     "output_type": "execute_result"
    }
   ],
   "source": [
    "dataset.head()"
   ]
  },
  {
   "cell_type": "code",
   "execution_count": null,
   "id": "95c102e5-ad56-4c90-9a8a-0c38c1805f04",
   "metadata": {},
   "outputs": [],
   "source": []
  },
  {
   "cell_type": "markdown",
   "id": "32b58771-f9c4-4abd-ba14-a6067c33c467",
   "metadata": {},
   "source": [
    "2. Сделайте предварительный анализ посмотрите на ваши данные:\n",
    "сколько их, какого они типа, и какое их примерно распределение"
   ]
  },
  {
   "cell_type": "code",
   "execution_count": 4,
   "id": "eb539021-121d-4ba7-9261-5064a2245092",
   "metadata": {},
   "outputs": [
    {
     "name": "stdout",
     "output_type": "stream",
     "text": [
      "<class 'pandas.core.frame.DataFrame'>\n",
      "RangeIndex: 9000 entries, 0 to 8999\n",
      "Data columns (total 21 columns):\n",
      " #   Column      Non-Null Count  Dtype  \n",
      "---  ------      --------------  -----  \n",
      " 0   feature_1   9000 non-null   float64\n",
      " 1   feature_2   9000 non-null   float64\n",
      " 2   feature_3   9000 non-null   float64\n",
      " 3   feature_4   9000 non-null   float64\n",
      " 4   feature_5   9000 non-null   float64\n",
      " 5   feature_6   9000 non-null   float64\n",
      " 6   feature_7   9000 non-null   float64\n",
      " 7   feature_8   9000 non-null   float64\n",
      " 8   feature_9   9000 non-null   float64\n",
      " 9   feature_10  9000 non-null   float64\n",
      " 10  feature_11  9000 non-null   float64\n",
      " 11  feature_12  9000 non-null   object \n",
      " 12  feature_13  9000 non-null   float64\n",
      " 13  feature_14  9000 non-null   float64\n",
      " 14  feature_15  9000 non-null   float64\n",
      " 15  feature_16  9000 non-null   float64\n",
      " 16  feature_17  9000 non-null   float64\n",
      " 17  feature_18  9000 non-null   float64\n",
      " 18  feature_19  9000 non-null   float64\n",
      " 19  feature_20  9000 non-null   float64\n",
      " 20  int_target  9000 non-null   int64  \n",
      "dtypes: float64(19), int64(1), object(1)\n",
      "memory usage: 1.4+ MB\n"
     ]
    }
   ],
   "source": [
    "# Basic information about the data\n",
    "dataset.info()"
   ]
  },
  {
   "cell_type": "code",
   "execution_count": 5,
   "id": "2ca2ea0d-8cfc-48d6-b22a-96ad2b33e55a",
   "metadata": {},
   "outputs": [
    {
     "data": {
      "text/html": [
       "<div>\n",
       "<style scoped>\n",
       "    .dataframe tbody tr th:only-of-type {\n",
       "        vertical-align: middle;\n",
       "    }\n",
       "\n",
       "    .dataframe tbody tr th {\n",
       "        vertical-align: top;\n",
       "    }\n",
       "\n",
       "    .dataframe thead th {\n",
       "        text-align: right;\n",
       "    }\n",
       "</style>\n",
       "<table border=\"1\" class=\"dataframe\">\n",
       "  <thead>\n",
       "    <tr style=\"text-align: right;\">\n",
       "      <th></th>\n",
       "      <th>feature_1</th>\n",
       "      <th>feature_2</th>\n",
       "      <th>feature_3</th>\n",
       "      <th>feature_4</th>\n",
       "      <th>feature_5</th>\n",
       "      <th>feature_6</th>\n",
       "      <th>feature_7</th>\n",
       "      <th>feature_8</th>\n",
       "      <th>feature_9</th>\n",
       "      <th>feature_10</th>\n",
       "      <th>feature_11</th>\n",
       "      <th>feature_13</th>\n",
       "      <th>feature_14</th>\n",
       "      <th>feature_15</th>\n",
       "      <th>feature_16</th>\n",
       "      <th>feature_17</th>\n",
       "      <th>feature_18</th>\n",
       "      <th>feature_19</th>\n",
       "      <th>feature_20</th>\n",
       "      <th>int_target</th>\n",
       "    </tr>\n",
       "  </thead>\n",
       "  <tbody>\n",
       "    <tr>\n",
       "      <th>count</th>\n",
       "      <td>9000.000000</td>\n",
       "      <td>9000.000000</td>\n",
       "      <td>9000.000000</td>\n",
       "      <td>9000.000000</td>\n",
       "      <td>9000.000000</td>\n",
       "      <td>9000.000000</td>\n",
       "      <td>9000.000000</td>\n",
       "      <td>9000.000000</td>\n",
       "      <td>9000.000000</td>\n",
       "      <td>9000.000000</td>\n",
       "      <td>9000.000000</td>\n",
       "      <td>9000.000000</td>\n",
       "      <td>9000.000000</td>\n",
       "      <td>9000.000000</td>\n",
       "      <td>9000.000000</td>\n",
       "      <td>9000.000000</td>\n",
       "      <td>9000.000000</td>\n",
       "      <td>9000.000000</td>\n",
       "      <td>9000.000000</td>\n",
       "      <td>9000.000000</td>\n",
       "    </tr>\n",
       "    <tr>\n",
       "      <th>mean</th>\n",
       "      <td>9.892699</td>\n",
       "      <td>0.051539</td>\n",
       "      <td>13.691801</td>\n",
       "      <td>-5.280291</td>\n",
       "      <td>-0.190470</td>\n",
       "      <td>33.328407</td>\n",
       "      <td>353.997548</td>\n",
       "      <td>0.322612</td>\n",
       "      <td>-69.936887</td>\n",
       "      <td>-0.334325</td>\n",
       "      <td>0.328602</td>\n",
       "      <td>99.738087</td>\n",
       "      <td>99.862703</td>\n",
       "      <td>99.764452</td>\n",
       "      <td>99.958384</td>\n",
       "      <td>100.053203</td>\n",
       "      <td>100.209235</td>\n",
       "      <td>100.150711</td>\n",
       "      <td>99.819907</td>\n",
       "      <td>14962.016000</td>\n",
       "    </tr>\n",
       "    <tr>\n",
       "      <th>std</th>\n",
       "      <td>16.005016</td>\n",
       "      <td>0.708241</td>\n",
       "      <td>77.058634</td>\n",
       "      <td>26.814772</td>\n",
       "      <td>0.966878</td>\n",
       "      <td>193.282240</td>\n",
       "      <td>482.976481</td>\n",
       "      <td>1.928390</td>\n",
       "      <td>130.805512</td>\n",
       "      <td>1.802465</td>\n",
       "      <td>1.949699</td>\n",
       "      <td>19.970516</td>\n",
       "      <td>20.059934</td>\n",
       "      <td>19.816391</td>\n",
       "      <td>20.073887</td>\n",
       "      <td>20.005191</td>\n",
       "      <td>19.839667</td>\n",
       "      <td>20.084744</td>\n",
       "      <td>20.072153</td>\n",
       "      <td>8507.039575</td>\n",
       "    </tr>\n",
       "    <tr>\n",
       "      <th>min</th>\n",
       "      <td>-55.674815</td>\n",
       "      <td>-1.000000</td>\n",
       "      <td>0.002306</td>\n",
       "      <td>-90.266818</td>\n",
       "      <td>-1.000000</td>\n",
       "      <td>-782.730110</td>\n",
       "      <td>0.000032</td>\n",
       "      <td>-8.785694</td>\n",
       "      <td>-562.750841</td>\n",
       "      <td>-6.678488</td>\n",
       "      <td>-6.817115</td>\n",
       "      <td>23.296434</td>\n",
       "      <td>21.404151</td>\n",
       "      <td>20.462943</td>\n",
       "      <td>31.695377</td>\n",
       "      <td>25.278459</td>\n",
       "      <td>6.108243</td>\n",
       "      <td>29.523073</td>\n",
       "      <td>28.591199</td>\n",
       "      <td>501.000000</td>\n",
       "    </tr>\n",
       "    <tr>\n",
       "      <th>25%</th>\n",
       "      <td>-0.590266</td>\n",
       "      <td>-0.652740</td>\n",
       "      <td>0.891789</td>\n",
       "      <td>-24.131903</td>\n",
       "      <td>-1.000000</td>\n",
       "      <td>-88.607265</td>\n",
       "      <td>38.261808</td>\n",
       "      <td>-0.867972</td>\n",
       "      <td>-155.988559</td>\n",
       "      <td>-1.569338</td>\n",
       "      <td>-0.997933</td>\n",
       "      <td>86.416262</td>\n",
       "      <td>86.377084</td>\n",
       "      <td>86.184816</td>\n",
       "      <td>86.146061</td>\n",
       "      <td>86.513425</td>\n",
       "      <td>86.753705</td>\n",
       "      <td>86.684625</td>\n",
       "      <td>86.163540</td>\n",
       "      <td>7461.750000</td>\n",
       "    </tr>\n",
       "    <tr>\n",
       "      <th>50%</th>\n",
       "      <td>10.032527</td>\n",
       "      <td>0.108589</td>\n",
       "      <td>2.771781</td>\n",
       "      <td>-6.535842</td>\n",
       "      <td>-0.999996</td>\n",
       "      <td>47.154805</td>\n",
       "      <td>169.202144</td>\n",
       "      <td>0.454511</td>\n",
       "      <td>-80.249681</td>\n",
       "      <td>-0.374527</td>\n",
       "      <td>0.361400</td>\n",
       "      <td>99.753333</td>\n",
       "      <td>99.914720</td>\n",
       "      <td>99.938163</td>\n",
       "      <td>99.956294</td>\n",
       "      <td>99.644334</td>\n",
       "      <td>100.166669</td>\n",
       "      <td>100.179503</td>\n",
       "      <td>99.942090</td>\n",
       "      <td>14878.500000</td>\n",
       "    </tr>\n",
       "    <tr>\n",
       "      <th>75%</th>\n",
       "      <td>20.577624</td>\n",
       "      <td>0.750147</td>\n",
       "      <td>8.313018</td>\n",
       "      <td>12.151035</td>\n",
       "      <td>1.000000</td>\n",
       "      <td>165.882796</td>\n",
       "      <td>476.800547</td>\n",
       "      <td>1.636826</td>\n",
       "      <td>10.046369</td>\n",
       "      <td>0.874218</td>\n",
       "      <td>1.690059</td>\n",
       "      <td>113.192601</td>\n",
       "      <td>113.550065</td>\n",
       "      <td>113.274773</td>\n",
       "      <td>113.503300</td>\n",
       "      <td>113.486201</td>\n",
       "      <td>113.389489</td>\n",
       "      <td>113.657307</td>\n",
       "      <td>113.275163</td>\n",
       "      <td>22404.000000</td>\n",
       "    </tr>\n",
       "    <tr>\n",
       "      <th>max</th>\n",
       "      <td>71.408515</td>\n",
       "      <td>1.000000</td>\n",
       "      <td>4195.458665</td>\n",
       "      <td>96.967006</td>\n",
       "      <td>1.000000</td>\n",
       "      <td>689.183091</td>\n",
       "      <td>5099.175987</td>\n",
       "      <td>7.563691</td>\n",
       "      <td>454.622574</td>\n",
       "      <td>6.605742</td>\n",
       "      <td>7.314190</td>\n",
       "      <td>169.972815</td>\n",
       "      <td>169.211534</td>\n",
       "      <td>176.896232</td>\n",
       "      <td>180.756967</td>\n",
       "      <td>182.022092</td>\n",
       "      <td>173.917343</td>\n",
       "      <td>171.521586</td>\n",
       "      <td>178.220128</td>\n",
       "      <td>29631.000000</td>\n",
       "    </tr>\n",
       "  </tbody>\n",
       "</table>\n",
       "</div>"
      ],
      "text/plain": [
       "         feature_1    feature_2    feature_3    feature_4    feature_5  \\\n",
       "count  9000.000000  9000.000000  9000.000000  9000.000000  9000.000000   \n",
       "mean      9.892699     0.051539    13.691801    -5.280291    -0.190470   \n",
       "std      16.005016     0.708241    77.058634    26.814772     0.966878   \n",
       "min     -55.674815    -1.000000     0.002306   -90.266818    -1.000000   \n",
       "25%      -0.590266    -0.652740     0.891789   -24.131903    -1.000000   \n",
       "50%      10.032527     0.108589     2.771781    -6.535842    -0.999996   \n",
       "75%      20.577624     0.750147     8.313018    12.151035     1.000000   \n",
       "max      71.408515     1.000000  4195.458665    96.967006     1.000000   \n",
       "\n",
       "         feature_6    feature_7    feature_8    feature_9   feature_10  \\\n",
       "count  9000.000000  9000.000000  9000.000000  9000.000000  9000.000000   \n",
       "mean     33.328407   353.997548     0.322612   -69.936887    -0.334325   \n",
       "std     193.282240   482.976481     1.928390   130.805512     1.802465   \n",
       "min    -782.730110     0.000032    -8.785694  -562.750841    -6.678488   \n",
       "25%     -88.607265    38.261808    -0.867972  -155.988559    -1.569338   \n",
       "50%      47.154805   169.202144     0.454511   -80.249681    -0.374527   \n",
       "75%     165.882796   476.800547     1.636826    10.046369     0.874218   \n",
       "max     689.183091  5099.175987     7.563691   454.622574     6.605742   \n",
       "\n",
       "        feature_11   feature_13   feature_14   feature_15   feature_16  \\\n",
       "count  9000.000000  9000.000000  9000.000000  9000.000000  9000.000000   \n",
       "mean      0.328602    99.738087    99.862703    99.764452    99.958384   \n",
       "std       1.949699    19.970516    20.059934    19.816391    20.073887   \n",
       "min      -6.817115    23.296434    21.404151    20.462943    31.695377   \n",
       "25%      -0.997933    86.416262    86.377084    86.184816    86.146061   \n",
       "50%       0.361400    99.753333    99.914720    99.938163    99.956294   \n",
       "75%       1.690059   113.192601   113.550065   113.274773   113.503300   \n",
       "max       7.314190   169.972815   169.211534   176.896232   180.756967   \n",
       "\n",
       "        feature_17   feature_18   feature_19   feature_20    int_target  \n",
       "count  9000.000000  9000.000000  9000.000000  9000.000000   9000.000000  \n",
       "mean    100.053203   100.209235   100.150711    99.819907  14962.016000  \n",
       "std      20.005191    19.839667    20.084744    20.072153   8507.039575  \n",
       "min      25.278459     6.108243    29.523073    28.591199    501.000000  \n",
       "25%      86.513425    86.753705    86.684625    86.163540   7461.750000  \n",
       "50%      99.644334   100.166669   100.179503    99.942090  14878.500000  \n",
       "75%     113.486201   113.389489   113.657307   113.275163  22404.000000  \n",
       "max     182.022092   173.917343   171.521586   178.220128  29631.000000  "
      ]
     },
     "execution_count": 5,
     "metadata": {},
     "output_type": "execute_result"
    }
   ],
   "source": [
    "# Descriptive statistics about the data\n",
    "dataset.describe()"
   ]
  },
  {
   "cell_type": "code",
   "execution_count": 6,
   "id": "5fd7b37d-4741-4d2d-8788-db4222ca0eef",
   "metadata": {},
   "outputs": [
    {
     "data": {
      "text/plain": [
       "feature_1     0\n",
       "feature_2     0\n",
       "feature_3     0\n",
       "feature_4     0\n",
       "feature_5     0\n",
       "feature_6     0\n",
       "feature_7     0\n",
       "feature_8     0\n",
       "feature_9     0\n",
       "feature_10    0\n",
       "feature_11    0\n",
       "feature_12    0\n",
       "feature_13    0\n",
       "feature_14    0\n",
       "feature_15    0\n",
       "feature_16    0\n",
       "feature_17    0\n",
       "feature_18    0\n",
       "feature_19    0\n",
       "feature_20    0\n",
       "int_target    0\n",
       "dtype: int64"
      ]
     },
     "execution_count": 6,
     "metadata": {},
     "output_type": "execute_result"
    }
   ],
   "source": [
    "# Checking missing values\n",
    "dataset.isna().sum()"
   ]
  },
  {
   "cell_type": "code",
   "execution_count": 7,
   "id": "c53e585c-f8ea-4d89-a054-7dc8783376bb",
   "metadata": {},
   "outputs": [
    {
     "data": {
      "text/plain": [
       "0"
      ]
     },
     "execution_count": 7,
     "metadata": {},
     "output_type": "execute_result"
    }
   ],
   "source": [
    "# Checking duplicates\n",
    "dataset.duplicated().sum()"
   ]
  },
  {
   "cell_type": "code",
   "execution_count": null,
   "id": "e9a49dc2-7fdb-4ebf-86b6-7fef8db3879c",
   "metadata": {},
   "outputs": [],
   "source": []
  },
  {
   "cell_type": "code",
   "execution_count": null,
   "id": "0dd9408d-248f-470e-8545-42d9f6a43623",
   "metadata": {},
   "outputs": [],
   "source": []
  },
  {
   "cell_type": "markdown",
   "id": "24f19134-e190-4d07-a9ba-eb2b4bf2d318",
   "metadata": {},
   "source": [
    "3. Разделите ваш датасет на таргет и признаки, а также поделите ваш датасет на тренировочный и тестовый"
   ]
  },
  {
   "cell_type": "code",
   "execution_count": 8,
   "id": "a36bb9ff-ebd0-43d6-a69f-d91b505b237e",
   "metadata": {},
   "outputs": [],
   "source": [
    "X = dataset.drop(columns=['int_target'])\n",
    "y = dataset['int_target']  "
   ]
  },
  {
   "cell_type": "code",
   "execution_count": 9,
   "id": "d4fba379-75bc-4261-b7da-319dffb9d090",
   "metadata": {},
   "outputs": [],
   "source": [
    "X_train, X_test, y_train, y_test = train_test_split(X, y, test_size=0.2, random_state=42)"
   ]
  },
  {
   "cell_type": "markdown",
   "id": "8d83deac-a0ee-4d7d-9787-00d2a18283c6",
   "metadata": {},
   "source": [
    "4. Надеюсь вы заметили что у вас есть категориальный признак который имеет текстовый формат.<br>\n",
    "Переведите этот признак в числовое значение"
   ]
  },
  {
   "cell_type": "code",
   "execution_count": 10,
   "id": "c17f1b3a-9b3d-4855-ac9b-20038e9a8900",
   "metadata": {},
   "outputs": [
    {
     "name": "stdout",
     "output_type": "stream",
     "text": [
      "    0    1    2    3          4         5          6          7         8   \\\n",
      "0  0.0  1.0  0.0  0.0  -0.043457 -0.027918   1.473594 -10.309556 -1.000000   \n",
      "1  0.0  0.0  0.0  1.0  -1.535978  0.999851  23.019753  38.430092  1.000000   \n",
      "2  0.0  1.0  0.0  0.0  11.567708  0.608310   1.873323   6.412821  0.999995   \n",
      "3  0.0  0.0  1.0  0.0   9.220074  0.999864   5.041939 -12.692120 -1.000000   \n",
      "4  0.0  0.0  1.0  0.0  -3.025434 -0.594711   5.912259 -14.922129 -1.000000   \n",
      "\n",
      "           9   ...        13        14          15          16          17  \\\n",
      "0  145.373247  ...  0.470329  0.525065   83.317907   85.385030  120.550153   \n",
      "1 -110.045207  ... -2.620978 -0.910418  114.881621   79.711086   68.505986   \n",
      "2 -280.186852  ... -1.006502 -1.598523  145.833459  115.159171   64.417992   \n",
      "3  164.773793  ...  2.712139  3.248977   98.150579   78.620349  120.176496   \n",
      "4    9.546673  ... -0.832795 -0.565688   94.519135  123.286154   75.458961   \n",
      "\n",
      "           18          19          20          21          22  \n",
      "0   59.736520   64.325558  107.833753   85.853573  104.466108  \n",
      "1  116.330797   75.365722  104.229006   90.842232   95.232654  \n",
      "2   98.846694   66.381070   82.118547   96.837671  103.887599  \n",
      "3  104.297092   89.318362   73.791588   71.870016   68.397346  \n",
      "4  111.831234  111.871202   99.733563  100.697358   97.568328  \n",
      "\n",
      "[5 rows x 23 columns]\n"
     ]
    }
   ],
   "source": [
    "columns_to_encode = ['feature_12']\n",
    "onehot_encoder = OneHotEncoder()\n",
    "column_transformer = ColumnTransformer([('onehot_encoder', onehot_encoder, columns_to_encode)],\n",
    "                                        remainder='passthrough')\n",
    "X_encoded = column_transformer.fit_transform(X)\n",
    "X_encoded_df = pd.DataFrame(X_encoded)\n",
    "print(X_encoded_df.head())"
   ]
  },
  {
   "cell_type": "code",
   "execution_count": 11,
   "id": "3cc87015-5381-48bb-bced-5a13ea690867",
   "metadata": {},
   "outputs": [],
   "source": [
    "X = X_encoded_df\n",
    "X_train, X_test, y_train, y_test = train_test_split(X, y, test_size=0.2, random_state=42)"
   ]
  },
  {
   "cell_type": "markdown",
   "id": "abf0e5c7-de68-4da9-91dc-b7ed3d4a1f95",
   "metadata": {},
   "source": [
    "5. Надеюсь вы заметили что масштабы наших признаков сильно разнятся.<br>\n",
    "Давайте применим одно единое масштабирование на все наши признаки."
   ]
  },
  {
   "cell_type": "code",
   "execution_count": 12,
   "id": "6fc63192-2f84-4136-ab13-c8a9a2a0ae9f",
   "metadata": {},
   "outputs": [],
   "source": [
    "scaler = StandardScaler()\n",
    "X_train_scaled = scaler.fit_transform(X_train)\n",
    "X_test_scaled = scaler.transform(X_test)"
   ]
  },
  {
   "cell_type": "code",
   "execution_count": null,
   "id": "a0973eb4-fcbf-4cfb-90fe-60dfbdc2b342",
   "metadata": {},
   "outputs": [],
   "source": []
  },
  {
   "cell_type": "markdown",
   "id": "b6136803-d092-4a97-ac6f-509159ad37dd",
   "metadata": {},
   "source": [
    "6. Постройте модель линейной регрессии.<br>\n",
    "Оцените модель с помощью метрики RMSE, а также покажите статистические метрики"
   ]
  },
  {
   "cell_type": "code",
   "execution_count": 13,
   "id": "d515877e-013f-4167-84bc-aec0da6c4e3f",
   "metadata": {},
   "outputs": [],
   "source": [
    "model = LinearRegression()"
   ]
  },
  {
   "cell_type": "code",
   "execution_count": 14,
   "id": "2d5d4944-525a-4d7b-b156-b40351640259",
   "metadata": {},
   "outputs": [
    {
     "data": {
      "text/html": [
       "<style>#sk-container-id-1 {color: black;background-color: white;}#sk-container-id-1 pre{padding: 0;}#sk-container-id-1 div.sk-toggleable {background-color: white;}#sk-container-id-1 label.sk-toggleable__label {cursor: pointer;display: block;width: 100%;margin-bottom: 0;padding: 0.3em;box-sizing: border-box;text-align: center;}#sk-container-id-1 label.sk-toggleable__label-arrow:before {content: \"▸\";float: left;margin-right: 0.25em;color: #696969;}#sk-container-id-1 label.sk-toggleable__label-arrow:hover:before {color: black;}#sk-container-id-1 div.sk-estimator:hover label.sk-toggleable__label-arrow:before {color: black;}#sk-container-id-1 div.sk-toggleable__content {max-height: 0;max-width: 0;overflow: hidden;text-align: left;background-color: #f0f8ff;}#sk-container-id-1 div.sk-toggleable__content pre {margin: 0.2em;color: black;border-radius: 0.25em;background-color: #f0f8ff;}#sk-container-id-1 input.sk-toggleable__control:checked~div.sk-toggleable__content {max-height: 200px;max-width: 100%;overflow: auto;}#sk-container-id-1 input.sk-toggleable__control:checked~label.sk-toggleable__label-arrow:before {content: \"▾\";}#sk-container-id-1 div.sk-estimator input.sk-toggleable__control:checked~label.sk-toggleable__label {background-color: #d4ebff;}#sk-container-id-1 div.sk-label input.sk-toggleable__control:checked~label.sk-toggleable__label {background-color: #d4ebff;}#sk-container-id-1 input.sk-hidden--visually {border: 0;clip: rect(1px 1px 1px 1px);clip: rect(1px, 1px, 1px, 1px);height: 1px;margin: -1px;overflow: hidden;padding: 0;position: absolute;width: 1px;}#sk-container-id-1 div.sk-estimator {font-family: monospace;background-color: #f0f8ff;border: 1px dotted black;border-radius: 0.25em;box-sizing: border-box;margin-bottom: 0.5em;}#sk-container-id-1 div.sk-estimator:hover {background-color: #d4ebff;}#sk-container-id-1 div.sk-parallel-item::after {content: \"\";width: 100%;border-bottom: 1px solid gray;flex-grow: 1;}#sk-container-id-1 div.sk-label:hover label.sk-toggleable__label {background-color: #d4ebff;}#sk-container-id-1 div.sk-serial::before {content: \"\";position: absolute;border-left: 1px solid gray;box-sizing: border-box;top: 0;bottom: 0;left: 50%;z-index: 0;}#sk-container-id-1 div.sk-serial {display: flex;flex-direction: column;align-items: center;background-color: white;padding-right: 0.2em;padding-left: 0.2em;position: relative;}#sk-container-id-1 div.sk-item {position: relative;z-index: 1;}#sk-container-id-1 div.sk-parallel {display: flex;align-items: stretch;justify-content: center;background-color: white;position: relative;}#sk-container-id-1 div.sk-item::before, #sk-container-id-1 div.sk-parallel-item::before {content: \"\";position: absolute;border-left: 1px solid gray;box-sizing: border-box;top: 0;bottom: 0;left: 50%;z-index: -1;}#sk-container-id-1 div.sk-parallel-item {display: flex;flex-direction: column;z-index: 1;position: relative;background-color: white;}#sk-container-id-1 div.sk-parallel-item:first-child::after {align-self: flex-end;width: 50%;}#sk-container-id-1 div.sk-parallel-item:last-child::after {align-self: flex-start;width: 50%;}#sk-container-id-1 div.sk-parallel-item:only-child::after {width: 0;}#sk-container-id-1 div.sk-dashed-wrapped {border: 1px dashed gray;margin: 0 0.4em 0.5em 0.4em;box-sizing: border-box;padding-bottom: 0.4em;background-color: white;}#sk-container-id-1 div.sk-label label {font-family: monospace;font-weight: bold;display: inline-block;line-height: 1.2em;}#sk-container-id-1 div.sk-label-container {text-align: center;}#sk-container-id-1 div.sk-container {/* jupyter's `normalize.less` sets `[hidden] { display: none; }` but bootstrap.min.css set `[hidden] { display: none !important; }` so we also need the `!important` here to be able to override the default hidden behavior on the sphinx rendered scikit-learn.org. See: https://github.com/scikit-learn/scikit-learn/issues/21755 */display: inline-block !important;position: relative;}#sk-container-id-1 div.sk-text-repr-fallback {display: none;}</style><div id=\"sk-container-id-1\" class=\"sk-top-container\"><div class=\"sk-text-repr-fallback\"><pre>LinearRegression()</pre><b>In a Jupyter environment, please rerun this cell to show the HTML representation or trust the notebook. <br />On GitHub, the HTML representation is unable to render, please try loading this page with nbviewer.org.</b></div><div class=\"sk-container\" hidden><div class=\"sk-item\"><div class=\"sk-estimator sk-toggleable\"><input class=\"sk-toggleable__control sk-hidden--visually\" id=\"sk-estimator-id-1\" type=\"checkbox\" checked><label for=\"sk-estimator-id-1\" class=\"sk-toggleable__label sk-toggleable__label-arrow\">LinearRegression</label><div class=\"sk-toggleable__content\"><pre>LinearRegression()</pre></div></div></div></div></div>"
      ],
      "text/plain": [
       "LinearRegression()"
      ]
     },
     "execution_count": 14,
     "metadata": {},
     "output_type": "execute_result"
    }
   ],
   "source": [
    "model.fit(X_train_scaled, y_train)"
   ]
  },
  {
   "cell_type": "code",
   "execution_count": 15,
   "id": "9298aa58-2d20-4486-9f45-2bb5b206676f",
   "metadata": {},
   "outputs": [],
   "source": [
    "y_pred = model.predict(X_test_scaled)"
   ]
  },
  {
   "cell_type": "code",
   "execution_count": 16,
   "id": "b6515781-d113-4a75-a4af-165e900eec6c",
   "metadata": {},
   "outputs": [
    {
     "name": "stdout",
     "output_type": "stream",
     "text": [
      "RMSE: 6798.121052312861\n"
     ]
    }
   ],
   "source": [
    "rmse = mean_squared_error(y_test, y_pred, squared=False)\n",
    "print(f\"RMSE: {rmse}\")"
   ]
  },
  {
   "cell_type": "code",
   "execution_count": 17,
   "id": "886767b7-9eaf-4b11-ac1e-ad56cec53214",
   "metadata": {},
   "outputs": [
    {
     "name": "stdout",
     "output_type": "stream",
     "text": [
      "                            OLS Regression Results                            \n",
      "==============================================================================\n",
      "Dep. Variable:             int_target   R-squared:                       0.377\n",
      "Model:                            OLS   Adj. R-squared:                  0.375\n",
      "Method:                 Least Squares   F-statistic:                     188.8\n",
      "Date:                Mon, 29 Apr 2024   Prob (F-statistic):               0.00\n",
      "Time:                        07:28:12   Log-Likelihood:                -73666.\n",
      "No. Observations:                7200   AIC:                         1.474e+05\n",
      "Df Residuals:                    7176   BIC:                         1.475e+05\n",
      "Df Model:                          23                                         \n",
      "Covariance Type:            nonrobust                                         \n",
      "==============================================================================\n",
      "                 coef    std err          t      P>|t|      [0.025      0.975]\n",
      "------------------------------------------------------------------------------\n",
      "const       1.485e+04     79.300    187.296      0.000    1.47e+04     1.5e+04\n",
      "x1          1.706e+15   1.22e+15      1.400      0.162   -6.83e+14     4.1e+15\n",
      "x2          1.717e+15   1.23e+15      1.400      0.162   -6.87e+14    4.12e+15\n",
      "x3          1.712e+15   1.22e+15      1.400      0.162   -6.85e+14    4.11e+15\n",
      "x4          1.712e+15   1.22e+15      1.400      0.162   -6.85e+14    4.11e+15\n",
      "x5         -1187.7530    109.852    -10.812      0.000   -1403.096    -972.410\n",
      "x6           864.6645     80.022     10.805      0.000     707.798    1021.531\n",
      "x7           216.8891     85.200      2.546      0.011      49.872     383.906\n",
      "x8         -2869.1853    166.293    -17.254      0.000   -3195.168   -2543.202\n",
      "x9          -714.2080    137.427     -5.197      0.000    -983.606    -444.810\n",
      "x10         -186.5974    117.176     -1.592      0.111    -416.297      43.103\n",
      "x11         -367.6655    103.619     -3.548      0.000    -570.789    -164.542\n",
      "x12         -146.8513    114.633     -1.281      0.200    -371.566      77.864\n",
      "x13         2934.2743    143.605     20.433      0.000    2652.766    3215.783\n",
      "x14          280.8621    103.879      2.704      0.007      77.228     484.496\n",
      "x15         2281.1698    100.986     22.589      0.000    2083.208    2479.131\n",
      "x16           16.2164     79.399      0.204      0.838    -139.430     171.863\n",
      "x17           73.3534     79.387      0.924      0.356     -82.269     228.975\n",
      "x18          -25.2742     79.446     -0.318      0.750    -181.012     130.464\n",
      "x19           41.5491     79.456      0.523      0.601    -114.207     197.306\n",
      "x20           38.2272     79.352      0.482      0.630    -117.326     193.781\n",
      "x21          126.5513     79.367      1.595      0.111     -29.031     282.133\n",
      "x22          -23.4012     79.380     -0.295      0.768    -179.010     132.207\n",
      "x23          105.6230     79.458      1.329      0.184     -50.138     261.384\n",
      "==============================================================================\n",
      "Omnibus:                       63.107   Durbin-Watson:                   2.025\n",
      "Prob(Omnibus):                  0.000   Jarque-Bera (JB):               65.168\n",
      "Skew:                           0.219   Prob(JB):                     7.06e-15\n",
      "Kurtosis:                       3.161   Cond. No.                     5.26e+13\n",
      "==============================================================================\n",
      "\n",
      "Notes:\n",
      "[1] Standard Errors assume that the covariance matrix of the errors is correctly specified.\n",
      "[2] The smallest eigenvalue is 7.57e-24. This might indicate that there are\n",
      "strong multicollinearity problems or that the design matrix is singular.\n"
     ]
    }
   ],
   "source": [
    "X_train_sm = sm.add_constant(X_train_scaled)\n",
    "X_test_sm = sm.add_constant(X_test_scaled)\n",
    "\n",
    "sm_model = sm.OLS(y_train, X_train_sm).fit()\n",
    "\n",
    "print(sm_model.summary())"
   ]
  },
  {
   "cell_type": "markdown",
   "id": "4f8866e9-4876-426a-b547-f8370e3cbf31",
   "metadata": {},
   "source": [
    "### Апдейт задачи\n",
    "Пришле заказчик и запросил текущий статус. Метрики RMSE ему сильно не понравились, около половины размаха всего таргета.<br>\n",
    "Вы предпологаете, что задача регрессии слишком комплексна для текущего набора данных.<br>\n",
    "Вы предложили, поделить таргет на классы, то есть не определять абсолютную сумму транзакций, а определять к какому классу этот клиент относится (высокодоходных, средний или низкодоходный).<br>\n",
    "Заказчик показать как поделить на эти классы"
   ]
  },
  {
   "cell_type": "markdown",
   "id": "3888dbb6-f062-40f8-954a-1bdb5e327e96",
   "metadata": {},
   "source": [
    "7. Чтобы поделить таргет на классы давайте сначала посмотрим на распределение этого самого таргета"
   ]
  },
  {
   "cell_type": "code",
   "execution_count": 18,
   "id": "45a67c72-0a92-4d59-87ef-ac4fc701e65f",
   "metadata": {},
   "outputs": [
    {
     "data": {
      "image/png": "[encoded data removed]",
      "text/plain": [
       "<Figure size 600x600 with 1 Axes>"
      ]
     },
     "metadata": {},
     "output_type": "display_data"
    }
   ],
   "source": [
    "plt.figure(figsize=(6,6))\n",
    "plt.title('Boxplot to detect outliers for price', fontsize=12)\n",
    "plt.xticks(fontsize=12)\n",
    "plt.yticks(fontsize=12)\n",
    "sns.boxplot(x=dataset['int_target'])\n",
    "plt.show()"
   ]
  },
  {
   "cell_type": "code",
   "execution_count": 19,
   "id": "e0ae5c48-8a69-4ab9-a0bf-f747a33f741d",
   "metadata": {},
   "outputs": [
    {
     "name": "stdout",
     "output_type": "stream",
     "text": [
      "Lower limit: -14951.625\n",
      "Upper limit: 44817.375\n",
      "Number of rows in the data containing outliers in target: 0\n"
     ]
    }
   ],
   "source": [
    "percentile25 = dataset['int_target'].quantile(0.25)\n",
    "percentile75 = dataset['int_target'].quantile(0.75)\n",
    "iqr = percentile75 - percentile25\n",
    "upper_limit = percentile75 + 1.5 * iqr\n",
    "lower_limit = percentile25 - 1.5 * iqr\n",
    "print(\"Lower limit:\", lower_limit)\n",
    "print(\"Upper limit:\", upper_limit)\n",
    "\n",
    "outliers = dataset[(dataset['int_target'] > upper_limit) | (dataset['int_target'] < lower_limit)]\n",
    "\n",
    "print(\"Number of rows in the data containing outliers in target:\", len(outliers))"
   ]
  },
  {
   "cell_type": "markdown",
   "id": "9247ca49-a90c-4961-8bb9-93902377165d",
   "metadata": {},
   "source": [
    "8. Думаю вы согласитесь что распределение выглядит равномерным то есть поделить мы можем на три равных класса.<br>\n",
    "Для этого нам нужно посчитать соответствующие перцентили (33% и 67%)"
   ]
  },
  {
   "cell_type": "code",
   "execution_count": 20,
   "id": "b432ec70-951c-4ee5-bdd7-1cb358c68ac2",
   "metadata": {},
   "outputs": [],
   "source": [
    "percentile_33 = dataset['int_target'].quantile(0.33)\n",
    "percentile_67 = dataset['int_target'].quantile(0.67)"
   ]
  },
  {
   "cell_type": "code",
   "execution_count": 21,
   "id": "4451fe35-805f-4281-8130-57d0fb9c96ee",
   "metadata": {},
   "outputs": [
    {
     "name": "stdout",
     "output_type": "stream",
     "text": [
      "33rd percentile:  9871.67\n",
      "67th percentile:  20120.66\n"
     ]
    }
   ],
   "source": [
    "print(\"33rd percentile: \",percentile_33)\n",
    "print(\"67th percentile: \",percentile_67)"
   ]
  },
  {
   "cell_type": "markdown",
   "id": "ae34fb08-694d-4a27-a80a-488d7ed32fb4",
   "metadata": {},
   "source": [
    "9. Заказчик согласился на деление по классам по данным перцентире но предложил их округлить.<br>\n",
    "Поэтому создайте новый таргет, по такой логике, все что ниже 10,000 это низкодоходный, а все что выше 20000 это высокодоходный, остальное соответсвенно средний класс"
   ]
  },
  {
   "cell_type": "code",
   "execution_count": 22,
   "id": "dd089606-135e-44d7-914f-a27e51ec145c",
   "metadata": {},
   "outputs": [],
   "source": [
    "percentile_33 = int(percentile_33)\n",
    "percentile_67 = int(percentile_67)"
   ]
  },
  {
   "cell_type": "code",
   "execution_count": 23,
   "id": "d8bf92ce-6ffc-4e13-8fe2-d9e79fe6c128",
   "metadata": {},
   "outputs": [
    {
     "name": "stdout",
     "output_type": "stream",
     "text": [
      "      feature_1  feature_2  feature_3  feature_4  feature_5   feature_6  \\\n",
      "0     -0.043457  -0.027918   1.473594 -10.309556  -1.000000  145.373247   \n",
      "1     -1.535978   0.999851  23.019753  38.430092   1.000000 -110.045207   \n",
      "2     11.567708   0.608310   1.873323   6.412821   0.999995 -280.186852   \n",
      "3      9.220074   0.999864   5.041939 -12.692120  -1.000000  164.773793   \n",
      "4     -3.025434  -0.594711   5.912259 -14.922129  -1.000000    9.546673   \n",
      "...         ...        ...        ...        ...        ...         ...   \n",
      "8995 -14.855160  -0.444750   5.014003   6.427379   0.999995 -117.145006   \n",
      "8996   3.978782  -0.977872   4.424409 -12.647104  -1.000000  417.490199   \n",
      "8997 -12.752882   0.877753   4.595519  -3.167490  -0.996460 -683.322309   \n",
      "8998   5.848172  -0.113649  14.008038   9.070265   1.000000 -100.800044   \n",
      "8999  -0.587002  -0.084128  19.426709  13.118624   1.000000    9.036669   \n",
      "\n",
      "       feature_7  feature_8   feature_9  feature_10  ...  feature_13  \\\n",
      "0       0.001888   2.555947  -64.208613    0.470329  ...   83.317907   \n",
      "1       2.359228   0.571917 -110.318854   -2.620978  ...  114.881621   \n",
      "2     133.811870   1.160380 -206.238816   -1.006502  ...  145.833459   \n",
      "3      85.009772  -1.401234   92.624296    2.712139  ...   98.150579   \n",
      "4       9.153251  -0.157479 -175.895074   -0.832795  ...   94.519135   \n",
      "...          ...        ...         ...         ...  ...         ...   \n",
      "8995  220.675766   2.305630 -123.983178   -0.951612  ...  121.949240   \n",
      "8996   15.830708  -3.781737  288.301732    2.492421  ...  123.045333   \n",
      "8997  162.635990  -1.165655 -270.594836   -3.391237  ...  123.040231   \n",
      "8998   34.201116   1.540314 -153.131023   -1.735506  ...  107.747155   \n",
      "8999    0.344571  -0.295297 -212.905451   -1.977985  ...  101.958056   \n",
      "\n",
      "      feature_14  feature_15  feature_16  feature_17  feature_18  feature_19  \\\n",
      "0      85.385030  120.550153   59.736520   64.325558  107.833753   85.853573   \n",
      "1      79.711086   68.505986  116.330797   75.365722  104.229006   90.842232   \n",
      "2     115.159171   64.417992   98.846694   66.381070   82.118547   96.837671   \n",
      "3      78.620349  120.176496  104.297092   89.318362   73.791588   71.870016   \n",
      "4     123.286154   75.458961  111.831234  111.871202   99.733563  100.697358   \n",
      "...          ...         ...         ...         ...         ...         ...   \n",
      "8995  106.327136  101.548759  102.942019   91.144601  108.163022  100.870928   \n",
      "8996  106.364483   83.957364   47.059143   87.166297  112.811188   98.509837   \n",
      "8997  126.737676  120.916782  113.665833  132.285874  103.250240   96.179067   \n",
      "8998   87.938391  115.194858   90.439441   83.195356  115.937584   94.057404   \n",
      "8999  103.685032  105.816761   88.142546  110.246240  140.943514  128.894451   \n",
      "\n",
      "      feature_20  int_target   income_level  \n",
      "0     104.466108       17353  Medium Income  \n",
      "1      95.232654        1214     Low Income  \n",
      "2     103.887599       16094  Medium Income  \n",
      "3      68.397346       24168    High Income  \n",
      "4      97.568328        1105     Low Income  \n",
      "...          ...         ...            ...  \n",
      "8995  115.264152       11210  Medium Income  \n",
      "8996  123.960286       27497    High Income  \n",
      "8997  112.579289        6309     Low Income  \n",
      "8998   64.427729       20424    High Income  \n",
      "8999   81.582395       11100  Medium Income  \n",
      "\n",
      "[9000 rows x 22 columns]\n"
     ]
    }
   ],
   "source": [
    "dataset['income_level'] = pd.cut(dataset['int_target'], bins=[-float('inf'), 10000, 20000, float('inf')],\n",
    "                            labels=['Low Income', 'Medium Income', 'High Income'],\n",
    "                            right=False)\n",
    "\n",
    "print(dataset)"
   ]
  },
  {
   "cell_type": "markdown",
   "id": "7860d2ae-05ef-4287-a986-d16fad7f048d",
   "metadata": {},
   "source": [
    "10. Давайте теперь построим модель логистической регрессии она будет служить нам бэйзлайном, а также фильтром признаков.<br>\n",
    "Для этого постройте модель с Lasso регуляризацией и коефициентом регуляризации 0.01.<br>\n",
    "Оцените модель используя метрику accuracy"
   ]
  },
  {
   "cell_type": "code",
   "execution_count": 24,
   "id": "bf50986f-3a05-4fd8-9916-f634c76b1eb4",
   "metadata": {},
   "outputs": [
    {
     "data": {
      "text/html": [
       "<div>\n",
       "<style scoped>\n",
       "    .dataframe tbody tr th:only-of-type {\n",
       "        vertical-align: middle;\n",
       "    }\n",
       "\n",
       "    .dataframe tbody tr th {\n",
       "        vertical-align: top;\n",
       "    }\n",
       "\n",
       "    .dataframe thead th {\n",
       "        text-align: right;\n",
       "    }\n",
       "</style>\n",
       "<table border=\"1\" class=\"dataframe\">\n",
       "  <thead>\n",
       "    <tr style=\"text-align: right;\">\n",
       "      <th></th>\n",
       "      <th>feature_1</th>\n",
       "      <th>feature_2</th>\n",
       "      <th>feature_3</th>\n",
       "      <th>feature_4</th>\n",
       "      <th>feature_5</th>\n",
       "      <th>feature_6</th>\n",
       "      <th>feature_7</th>\n",
       "      <th>feature_8</th>\n",
       "      <th>feature_9</th>\n",
       "      <th>feature_10</th>\n",
       "      <th>...</th>\n",
       "      <th>feature_13</th>\n",
       "      <th>feature_14</th>\n",
       "      <th>feature_15</th>\n",
       "      <th>feature_16</th>\n",
       "      <th>feature_17</th>\n",
       "      <th>feature_18</th>\n",
       "      <th>feature_19</th>\n",
       "      <th>feature_20</th>\n",
       "      <th>int_target</th>\n",
       "      <th>income_level</th>\n",
       "    </tr>\n",
       "  </thead>\n",
       "  <tbody>\n",
       "    <tr>\n",
       "      <th>0</th>\n",
       "      <td>-0.043457</td>\n",
       "      <td>-0.027918</td>\n",
       "      <td>1.473594</td>\n",
       "      <td>-10.309556</td>\n",
       "      <td>-1.000000</td>\n",
       "      <td>145.373247</td>\n",
       "      <td>0.001888</td>\n",
       "      <td>2.555947</td>\n",
       "      <td>-64.208613</td>\n",
       "      <td>0.470329</td>\n",
       "      <td>...</td>\n",
       "      <td>83.317907</td>\n",
       "      <td>85.385030</td>\n",
       "      <td>120.550153</td>\n",
       "      <td>59.736520</td>\n",
       "      <td>64.325558</td>\n",
       "      <td>107.833753</td>\n",
       "      <td>85.853573</td>\n",
       "      <td>104.466108</td>\n",
       "      <td>17353</td>\n",
       "      <td>Medium Income</td>\n",
       "    </tr>\n",
       "    <tr>\n",
       "      <th>1</th>\n",
       "      <td>-1.535978</td>\n",
       "      <td>0.999851</td>\n",
       "      <td>23.019753</td>\n",
       "      <td>38.430092</td>\n",
       "      <td>1.000000</td>\n",
       "      <td>-110.045207</td>\n",
       "      <td>2.359228</td>\n",
       "      <td>0.571917</td>\n",
       "      <td>-110.318854</td>\n",
       "      <td>-2.620978</td>\n",
       "      <td>...</td>\n",
       "      <td>114.881621</td>\n",
       "      <td>79.711086</td>\n",
       "      <td>68.505986</td>\n",
       "      <td>116.330797</td>\n",
       "      <td>75.365722</td>\n",
       "      <td>104.229006</td>\n",
       "      <td>90.842232</td>\n",
       "      <td>95.232654</td>\n",
       "      <td>1214</td>\n",
       "      <td>Low Income</td>\n",
       "    </tr>\n",
       "    <tr>\n",
       "      <th>2</th>\n",
       "      <td>11.567708</td>\n",
       "      <td>0.608310</td>\n",
       "      <td>1.873323</td>\n",
       "      <td>6.412821</td>\n",
       "      <td>0.999995</td>\n",
       "      <td>-280.186852</td>\n",
       "      <td>133.811870</td>\n",
       "      <td>1.160380</td>\n",
       "      <td>-206.238816</td>\n",
       "      <td>-1.006502</td>\n",
       "      <td>...</td>\n",
       "      <td>145.833459</td>\n",
       "      <td>115.159171</td>\n",
       "      <td>64.417992</td>\n",
       "      <td>98.846694</td>\n",
       "      <td>66.381070</td>\n",
       "      <td>82.118547</td>\n",
       "      <td>96.837671</td>\n",
       "      <td>103.887599</td>\n",
       "      <td>16094</td>\n",
       "      <td>Medium Income</td>\n",
       "    </tr>\n",
       "    <tr>\n",
       "      <th>3</th>\n",
       "      <td>9.220074</td>\n",
       "      <td>0.999864</td>\n",
       "      <td>5.041939</td>\n",
       "      <td>-12.692120</td>\n",
       "      <td>-1.000000</td>\n",
       "      <td>164.773793</td>\n",
       "      <td>85.009772</td>\n",
       "      <td>-1.401234</td>\n",
       "      <td>92.624296</td>\n",
       "      <td>2.712139</td>\n",
       "      <td>...</td>\n",
       "      <td>98.150579</td>\n",
       "      <td>78.620349</td>\n",
       "      <td>120.176496</td>\n",
       "      <td>104.297092</td>\n",
       "      <td>89.318362</td>\n",
       "      <td>73.791588</td>\n",
       "      <td>71.870016</td>\n",
       "      <td>68.397346</td>\n",
       "      <td>24168</td>\n",
       "      <td>High Income</td>\n",
       "    </tr>\n",
       "    <tr>\n",
       "      <th>4</th>\n",
       "      <td>-3.025434</td>\n",
       "      <td>-0.594711</td>\n",
       "      <td>5.912259</td>\n",
       "      <td>-14.922129</td>\n",
       "      <td>-1.000000</td>\n",
       "      <td>9.546673</td>\n",
       "      <td>9.153251</td>\n",
       "      <td>-0.157479</td>\n",
       "      <td>-175.895074</td>\n",
       "      <td>-0.832795</td>\n",
       "      <td>...</td>\n",
       "      <td>94.519135</td>\n",
       "      <td>123.286154</td>\n",
       "      <td>75.458961</td>\n",
       "      <td>111.831234</td>\n",
       "      <td>111.871202</td>\n",
       "      <td>99.733563</td>\n",
       "      <td>100.697358</td>\n",
       "      <td>97.568328</td>\n",
       "      <td>1105</td>\n",
       "      <td>Low Income</td>\n",
       "    </tr>\n",
       "  </tbody>\n",
       "</table>\n",
       "<p>5 rows × 22 columns</p>\n",
       "</div>"
      ],
      "text/plain": [
       "   feature_1  feature_2  feature_3  feature_4  feature_5   feature_6  \\\n",
       "0  -0.043457  -0.027918   1.473594 -10.309556  -1.000000  145.373247   \n",
       "1  -1.535978   0.999851  23.019753  38.430092   1.000000 -110.045207   \n",
       "2  11.567708   0.608310   1.873323   6.412821   0.999995 -280.186852   \n",
       "3   9.220074   0.999864   5.041939 -12.692120  -1.000000  164.773793   \n",
       "4  -3.025434  -0.594711   5.912259 -14.922129  -1.000000    9.546673   \n",
       "\n",
       "    feature_7  feature_8   feature_9  feature_10  ...  feature_13  feature_14  \\\n",
       "0    0.001888   2.555947  -64.208613    0.470329  ...   83.317907   85.385030   \n",
       "1    2.359228   0.571917 -110.318854   -2.620978  ...  114.881621   79.711086   \n",
       "2  133.811870   1.160380 -206.238816   -1.006502  ...  145.833459  115.159171   \n",
       "3   85.009772  -1.401234   92.624296    2.712139  ...   98.150579   78.620349   \n",
       "4    9.153251  -0.157479 -175.895074   -0.832795  ...   94.519135  123.286154   \n",
       "\n",
       "   feature_15  feature_16  feature_17  feature_18  feature_19  feature_20  \\\n",
       "0  120.550153   59.736520   64.325558  107.833753   85.853573  104.466108   \n",
       "1   68.505986  116.330797   75.365722  104.229006   90.842232   95.232654   \n",
       "2   64.417992   98.846694   66.381070   82.118547   96.837671  103.887599   \n",
       "3  120.176496  104.297092   89.318362   73.791588   71.870016   68.397346   \n",
       "4   75.458961  111.831234  111.871202   99.733563  100.697358   97.568328   \n",
       "\n",
       "   int_target   income_level  \n",
       "0       17353  Medium Income  \n",
       "1        1214     Low Income  \n",
       "2       16094  Medium Income  \n",
       "3       24168    High Income  \n",
       "4        1105     Low Income  \n",
       "\n",
       "[5 rows x 22 columns]"
      ]
     },
     "execution_count": 24,
     "metadata": {},
     "output_type": "execute_result"
    }
   ],
   "source": [
    "dataset.head()"
   ]
  },
  {
   "cell_type": "code",
   "execution_count": 25,
   "id": "58800ab2-19b9-42fb-8c7f-797ed0bc4c74",
   "metadata": {},
   "outputs": [
    {
     "data": {
      "text/html": [
       "<div>\n",
       "<style scoped>\n",
       "    .dataframe tbody tr th:only-of-type {\n",
       "        vertical-align: middle;\n",
       "    }\n",
       "\n",
       "    .dataframe tbody tr th {\n",
       "        vertical-align: top;\n",
       "    }\n",
       "\n",
       "    .dataframe thead th {\n",
       "        text-align: right;\n",
       "    }\n",
       "</style>\n",
       "<table border=\"1\" class=\"dataframe\">\n",
       "  <thead>\n",
       "    <tr style=\"text-align: right;\">\n",
       "      <th></th>\n",
       "      <th>0</th>\n",
       "      <th>1</th>\n",
       "      <th>2</th>\n",
       "      <th>3</th>\n",
       "      <th>4</th>\n",
       "      <th>5</th>\n",
       "      <th>6</th>\n",
       "      <th>7</th>\n",
       "      <th>8</th>\n",
       "      <th>9</th>\n",
       "      <th>...</th>\n",
       "      <th>13</th>\n",
       "      <th>14</th>\n",
       "      <th>15</th>\n",
       "      <th>16</th>\n",
       "      <th>17</th>\n",
       "      <th>18</th>\n",
       "      <th>19</th>\n",
       "      <th>20</th>\n",
       "      <th>21</th>\n",
       "      <th>22</th>\n",
       "    </tr>\n",
       "  </thead>\n",
       "  <tbody>\n",
       "    <tr>\n",
       "      <th>0</th>\n",
       "      <td>0.0</td>\n",
       "      <td>1.0</td>\n",
       "      <td>0.0</td>\n",
       "      <td>0.0</td>\n",
       "      <td>-0.043457</td>\n",
       "      <td>-0.027918</td>\n",
       "      <td>1.473594</td>\n",
       "      <td>-10.309556</td>\n",
       "      <td>-1.000000</td>\n",
       "      <td>145.373247</td>\n",
       "      <td>...</td>\n",
       "      <td>0.470329</td>\n",
       "      <td>0.525065</td>\n",
       "      <td>83.317907</td>\n",
       "      <td>85.385030</td>\n",
       "      <td>120.550153</td>\n",
       "      <td>59.736520</td>\n",
       "      <td>64.325558</td>\n",
       "      <td>107.833753</td>\n",
       "      <td>85.853573</td>\n",
       "      <td>104.466108</td>\n",
       "    </tr>\n",
       "    <tr>\n",
       "      <th>1</th>\n",
       "      <td>0.0</td>\n",
       "      <td>0.0</td>\n",
       "      <td>0.0</td>\n",
       "      <td>1.0</td>\n",
       "      <td>-1.535978</td>\n",
       "      <td>0.999851</td>\n",
       "      <td>23.019753</td>\n",
       "      <td>38.430092</td>\n",
       "      <td>1.000000</td>\n",
       "      <td>-110.045207</td>\n",
       "      <td>...</td>\n",
       "      <td>-2.620978</td>\n",
       "      <td>-0.910418</td>\n",
       "      <td>114.881621</td>\n",
       "      <td>79.711086</td>\n",
       "      <td>68.505986</td>\n",
       "      <td>116.330797</td>\n",
       "      <td>75.365722</td>\n",
       "      <td>104.229006</td>\n",
       "      <td>90.842232</td>\n",
       "      <td>95.232654</td>\n",
       "    </tr>\n",
       "    <tr>\n",
       "      <th>2</th>\n",
       "      <td>0.0</td>\n",
       "      <td>1.0</td>\n",
       "      <td>0.0</td>\n",
       "      <td>0.0</td>\n",
       "      <td>11.567708</td>\n",
       "      <td>0.608310</td>\n",
       "      <td>1.873323</td>\n",
       "      <td>6.412821</td>\n",
       "      <td>0.999995</td>\n",
       "      <td>-280.186852</td>\n",
       "      <td>...</td>\n",
       "      <td>-1.006502</td>\n",
       "      <td>-1.598523</td>\n",
       "      <td>145.833459</td>\n",
       "      <td>115.159171</td>\n",
       "      <td>64.417992</td>\n",
       "      <td>98.846694</td>\n",
       "      <td>66.381070</td>\n",
       "      <td>82.118547</td>\n",
       "      <td>96.837671</td>\n",
       "      <td>103.887599</td>\n",
       "    </tr>\n",
       "    <tr>\n",
       "      <th>3</th>\n",
       "      <td>0.0</td>\n",
       "      <td>0.0</td>\n",
       "      <td>1.0</td>\n",
       "      <td>0.0</td>\n",
       "      <td>9.220074</td>\n",
       "      <td>0.999864</td>\n",
       "      <td>5.041939</td>\n",
       "      <td>-12.692120</td>\n",
       "      <td>-1.000000</td>\n",
       "      <td>164.773793</td>\n",
       "      <td>...</td>\n",
       "      <td>2.712139</td>\n",
       "      <td>3.248977</td>\n",
       "      <td>98.150579</td>\n",
       "      <td>78.620349</td>\n",
       "      <td>120.176496</td>\n",
       "      <td>104.297092</td>\n",
       "      <td>89.318362</td>\n",
       "      <td>73.791588</td>\n",
       "      <td>71.870016</td>\n",
       "      <td>68.397346</td>\n",
       "    </tr>\n",
       "    <tr>\n",
       "      <th>4</th>\n",
       "      <td>0.0</td>\n",
       "      <td>0.0</td>\n",
       "      <td>1.0</td>\n",
       "      <td>0.0</td>\n",
       "      <td>-3.025434</td>\n",
       "      <td>-0.594711</td>\n",
       "      <td>5.912259</td>\n",
       "      <td>-14.922129</td>\n",
       "      <td>-1.000000</td>\n",
       "      <td>9.546673</td>\n",
       "      <td>...</td>\n",
       "      <td>-0.832795</td>\n",
       "      <td>-0.565688</td>\n",
       "      <td>94.519135</td>\n",
       "      <td>123.286154</td>\n",
       "      <td>75.458961</td>\n",
       "      <td>111.831234</td>\n",
       "      <td>111.871202</td>\n",
       "      <td>99.733563</td>\n",
       "      <td>100.697358</td>\n",
       "      <td>97.568328</td>\n",
       "    </tr>\n",
       "  </tbody>\n",
       "</table>\n",
       "<p>5 rows × 23 columns</p>\n",
       "</div>"
      ],
      "text/plain": [
       "    0    1    2    3          4         5          6          7         8   \\\n",
       "0  0.0  1.0  0.0  0.0  -0.043457 -0.027918   1.473594 -10.309556 -1.000000   \n",
       "1  0.0  0.0  0.0  1.0  -1.535978  0.999851  23.019753  38.430092  1.000000   \n",
       "2  0.0  1.0  0.0  0.0  11.567708  0.608310   1.873323   6.412821  0.999995   \n",
       "3  0.0  0.0  1.0  0.0   9.220074  0.999864   5.041939 -12.692120 -1.000000   \n",
       "4  0.0  0.0  1.0  0.0  -3.025434 -0.594711   5.912259 -14.922129 -1.000000   \n",
       "\n",
       "           9   ...        13        14          15          16          17  \\\n",
       "0  145.373247  ...  0.470329  0.525065   83.317907   85.385030  120.550153   \n",
       "1 -110.045207  ... -2.620978 -0.910418  114.881621   79.711086   68.505986   \n",
       "2 -280.186852  ... -1.006502 -1.598523  145.833459  115.159171   64.417992   \n",
       "3  164.773793  ...  2.712139  3.248977   98.150579   78.620349  120.176496   \n",
       "4    9.546673  ... -0.832795 -0.565688   94.519135  123.286154   75.458961   \n",
       "\n",
       "           18          19          20          21          22  \n",
       "0   59.736520   64.325558  107.833753   85.853573  104.466108  \n",
       "1  116.330797   75.365722  104.229006   90.842232   95.232654  \n",
       "2   98.846694   66.381070   82.118547   96.837671  103.887599  \n",
       "3  104.297092   89.318362   73.791588   71.870016   68.397346  \n",
       "4  111.831234  111.871202   99.733563  100.697358   97.568328  \n",
       "\n",
       "[5 rows x 23 columns]"
      ]
     },
     "execution_count": 25,
     "metadata": {},
     "output_type": "execute_result"
    }
   ],
   "source": [
    "X.head()"
   ]
  },
  {
   "cell_type": "code",
   "execution_count": 26,
   "id": "86af5904-54c9-480b-b937-c564fa306d0b",
   "metadata": {},
   "outputs": [],
   "source": [
    "y = dataset['income_level']\n",
    "\n",
    "X_train, X_test, y_train, y_test = train_test_split(X, y, test_size=0.2, random_state=42)"
   ]
  },
  {
   "cell_type": "code",
   "execution_count": 27,
   "id": "a86209e3-c768-4247-9eb4-308afbc07731",
   "metadata": {},
   "outputs": [],
   "source": [
    "scaler = StandardScaler()\n",
    "X_train_scaled = scaler.fit_transform(X_train)\n",
    "X_test_scaled = scaler.transform(X_test)"
   ]
  },
  {
   "cell_type": "code",
   "execution_count": 28,
   "id": "74895641-b1d6-4774-849a-b8dfc7045c27",
   "metadata": {},
   "outputs": [
    {
     "data": {
      "text/html": [
       "<style>#sk-container-id-2 {color: black;background-color: white;}#sk-container-id-2 pre{padding: 0;}#sk-container-id-2 div.sk-toggleable {background-color: white;}#sk-container-id-2 label.sk-toggleable__label {cursor: pointer;display: block;width: 100%;margin-bottom: 0;padding: 0.3em;box-sizing: border-box;text-align: center;}#sk-container-id-2 label.sk-toggleable__label-arrow:before {content: \"▸\";float: left;margin-right: 0.25em;color: #696969;}#sk-container-id-2 label.sk-toggleable__label-arrow:hover:before {color: black;}#sk-container-id-2 div.sk-estimator:hover label.sk-toggleable__label-arrow:before {color: black;}#sk-container-id-2 div.sk-toggleable__content {max-height: 0;max-width: 0;overflow: hidden;text-align: left;background-color: #f0f8ff;}#sk-container-id-2 div.sk-toggleable__content pre {margin: 0.2em;color: black;border-radius: 0.25em;background-color: #f0f8ff;}#sk-container-id-2 input.sk-toggleable__control:checked~div.sk-toggleable__content {max-height: 200px;max-width: 100%;overflow: auto;}#sk-container-id-2 input.sk-toggleable__control:checked~label.sk-toggleable__label-arrow:before {content: \"▾\";}#sk-container-id-2 div.sk-estimator input.sk-toggleable__control:checked~label.sk-toggleable__label {background-color: #d4ebff;}#sk-container-id-2 div.sk-label input.sk-toggleable__control:checked~label.sk-toggleable__label {background-color: #d4ebff;}#sk-container-id-2 input.sk-hidden--visually {border: 0;clip: rect(1px 1px 1px 1px);clip: rect(1px, 1px, 1px, 1px);height: 1px;margin: -1px;overflow: hidden;padding: 0;position: absolute;width: 1px;}#sk-container-id-2 div.sk-estimator {font-family: monospace;background-color: #f0f8ff;border: 1px dotted black;border-radius: 0.25em;box-sizing: border-box;margin-bottom: 0.5em;}#sk-container-id-2 div.sk-estimator:hover {background-color: #d4ebff;}#sk-container-id-2 div.sk-parallel-item::after {content: \"\";width: 100%;border-bottom: 1px solid gray;flex-grow: 1;}#sk-container-id-2 div.sk-label:hover label.sk-toggleable__label {background-color: #d4ebff;}#sk-container-id-2 div.sk-serial::before {content: \"\";position: absolute;border-left: 1px solid gray;box-sizing: border-box;top: 0;bottom: 0;left: 50%;z-index: 0;}#sk-container-id-2 div.sk-serial {display: flex;flex-direction: column;align-items: center;background-color: white;padding-right: 0.2em;padding-left: 0.2em;position: relative;}#sk-container-id-2 div.sk-item {position: relative;z-index: 1;}#sk-container-id-2 div.sk-parallel {display: flex;align-items: stretch;justify-content: center;background-color: white;position: relative;}#sk-container-id-2 div.sk-item::before, #sk-container-id-2 div.sk-parallel-item::before {content: \"\";position: absolute;border-left: 1px solid gray;box-sizing: border-box;top: 0;bottom: 0;left: 50%;z-index: -1;}#sk-container-id-2 div.sk-parallel-item {display: flex;flex-direction: column;z-index: 1;position: relative;background-color: white;}#sk-container-id-2 div.sk-parallel-item:first-child::after {align-self: flex-end;width: 50%;}#sk-container-id-2 div.sk-parallel-item:last-child::after {align-self: flex-start;width: 50%;}#sk-container-id-2 div.sk-parallel-item:only-child::after {width: 0;}#sk-container-id-2 div.sk-dashed-wrapped {border: 1px dashed gray;margin: 0 0.4em 0.5em 0.4em;box-sizing: border-box;padding-bottom: 0.4em;background-color: white;}#sk-container-id-2 div.sk-label label {font-family: monospace;font-weight: bold;display: inline-block;line-height: 1.2em;}#sk-container-id-2 div.sk-label-container {text-align: center;}#sk-container-id-2 div.sk-container {/* jupyter's `normalize.less` sets `[hidden] { display: none; }` but bootstrap.min.css set `[hidden] { display: none !important; }` so we also need the `!important` here to be able to override the default hidden behavior on the sphinx rendered scikit-learn.org. See: https://github.com/scikit-learn/scikit-learn/issues/21755 */display: inline-block !important;position: relative;}#sk-container-id-2 div.sk-text-repr-fallback {display: none;}</style><div id=\"sk-container-id-2\" class=\"sk-top-container\"><div class=\"sk-text-repr-fallback\"><pre>LogisticRegression(C=0.01, penalty=&#x27;l1&#x27;, random_state=42, solver=&#x27;liblinear&#x27;)</pre><b>In a Jupyter environment, please rerun this cell to show the HTML representation or trust the notebook. <br />On GitHub, the HTML representation is unable to render, please try loading this page with nbviewer.org.</b></div><div class=\"sk-container\" hidden><div class=\"sk-item\"><div class=\"sk-estimator sk-toggleable\"><input class=\"sk-toggleable__control sk-hidden--visually\" id=\"sk-estimator-id-2\" type=\"checkbox\" checked><label for=\"sk-estimator-id-2\" class=\"sk-toggleable__label sk-toggleable__label-arrow\">LogisticRegression</label><div class=\"sk-toggleable__content\"><pre>LogisticRegression(C=0.01, penalty=&#x27;l1&#x27;, random_state=42, solver=&#x27;liblinear&#x27;)</pre></div></div></div></div></div>"
      ],
      "text/plain": [
       "LogisticRegression(C=0.01, penalty='l1', random_state=42, solver='liblinear')"
      ]
     },
     "execution_count": 28,
     "metadata": {},
     "output_type": "execute_result"
    }
   ],
   "source": [
    "model = LogisticRegression(penalty='l1', C=0.01, solver='liblinear', random_state=42)\n",
    "model.fit(X_train_scaled, y_train)"
   ]
  },
  {
   "cell_type": "code",
   "execution_count": 29,
   "id": "3bf3b465-3294-4ed6-88f6-5fc5f064de80",
   "metadata": {},
   "outputs": [],
   "source": [
    "y_pred = model.predict(X_test_scaled)\n",
    "accuracy = accuracy_score(y_test, y_pred)"
   ]
  },
  {
   "cell_type": "code",
   "execution_count": 30,
   "id": "b6357a05-6109-4ace-b451-6e2c99d4a10e",
   "metadata": {},
   "outputs": [
    {
     "name": "stdout",
     "output_type": "stream",
     "text": [
      "Accuracy: 0.7372222222222222\n"
     ]
    }
   ],
   "source": [
    "print(\"Accuracy:\", accuracy)"
   ]
  },
  {
   "cell_type": "markdown",
   "id": "e49a7625-b811-46a8-8a78-0d15bec7a237",
   "metadata": {},
   "source": [
    "11. Посмотрите какие получились коэффициенты признаков у нашей модели"
   ]
  },
  {
   "cell_type": "code",
   "execution_count": 31,
   "id": "e134732c-f036-45bf-a942-934b5c3016d0",
   "metadata": {},
   "outputs": [
    {
     "data": {
      "text/plain": [
       "array([[ 0.        ,  0.        ,  0.        ,  0.        ,  0.        ,\n",
       "         0.13172839,  0.        ,  0.        , -0.18833451,  0.        ,\n",
       "        -0.16900935, -0.65495292,  0.39037161,  0.69533097,  0.13667018,\n",
       "         0.        ,  0.        ,  0.        ,  0.        ,  0.        ,\n",
       "         0.        ,  0.        ,  0.        ],\n",
       "       [ 0.        ,  0.        ,  0.        ,  0.        ,  0.41321808,\n",
       "        -0.20016868,  0.        ,  1.14876408,  0.06652282, -0.1936392 ,\n",
       "         0.        , -0.08669205, -0.59172123,  0.06819086, -0.80611041,\n",
       "         0.        ,  0.        ,  0.        ,  0.        ,  0.        ,\n",
       "         0.        ,  0.        ,  0.        ],\n",
       "       [ 0.        ,  0.        ,  0.        ,  0.        , -0.2812767 ,\n",
       "         0.        ,  0.        , -0.88181064,  0.        ,  0.40961828,\n",
       "         0.        ,  0.80051461,  0.        , -0.79423279,  0.50221998,\n",
       "         0.        ,  0.        ,  0.        ,  0.        ,  0.        ,\n",
       "         0.        ,  0.        ,  0.        ]])"
      ]
     },
     "execution_count": 31,
     "metadata": {},
     "output_type": "execute_result"
    }
   ],
   "source": [
    "model.coef_"
   ]
  },
  {
   "cell_type": "markdown",
   "id": "274abf60-2611-43d8-b1c7-f0f796f611e1",
   "metadata": {},
   "source": [
    "12. Что ж видимо признаки у которых коэффициенты по всем классам равны нулю нам не особо полезны.<br>\n",
    "Давайте выберем только те признаки у которых коэффициент не ноль и создадим новый датасет признаков"
   ]
  },
  {
   "cell_type": "code",
   "execution_count": 32,
   "id": "ebe68789-0200-4ea2-8298-d6d59720a24d",
   "metadata": {},
   "outputs": [
    {
     "data": {
      "text/plain": [
       "(9000, 7)"
      ]
     },
     "execution_count": 32,
     "metadata": {},
     "output_type": "execute_result"
    }
   ],
   "source": [
    "selected_features = X.columns[model.coef_[0] != 0]\n",
    "X_selected = X[selected_features]\n",
    "X_selected.shape"
   ]
  },
  {
   "cell_type": "code",
   "execution_count": null,
   "id": "28e09524-e722-4442-8b1d-3229f9bffa80",
   "metadata": {},
   "outputs": [],
   "source": []
  },
  {
   "cell_type": "markdown",
   "id": "0c22edda-ff7f-4a62-bac3-33281dc11b40",
   "metadata": {},
   "source": [
    "13. Давайте посмотрим есть ли какая-то предсказательная способность у оставшихся признаков.<br>\n",
    "Для этого примените principal component analysis и нарисуйте эти компоненты на графике с таргетом"
   ]
  },
  {
   "cell_type": "code",
   "execution_count": 33,
   "id": "6a9cc037-bdad-45fb-9489-c1d3987de237",
   "metadata": {},
   "outputs": [],
   "source": [
    "pca = PCA(n_components=2)\n",
    "X_pca = pca.fit_transform(X_selected)"
   ]
  },
  {
   "cell_type": "code",
   "execution_count": 34,
   "id": "978b1693-93ca-4703-9b35-9937cf1a8e69",
   "metadata": {},
   "outputs": [
    {
     "data": {
      "image/png": "[encoded data removed]",
      "text/plain": [
       "<Figure size 1000x600 with 1 Axes>"
      ]
     },
     "metadata": {},
     "output_type": "display_data"
    }
   ],
   "source": [
    "y_numeric = pd.factorize(y)[0]\n",
    "\n",
    "plt.figure(figsize=(10, 6))\n",
    "scatter = plt.scatter(X_pca[:, 0], X_pca[:, 1], c=y_numeric, cmap='viridis')\n",
    "plt.xlabel('Principal Component 1')\n",
    "plt.ylabel('Principal Component 2')\n",
    "plt.title('PCA Components with Target')\n",
    "plt.legend(handles=scatter.legend_elements()[0], labels=['Low Income', 'Medium Income', 'High Income'])\n",
    "plt.show()"
   ]
  },
  {
   "cell_type": "code",
   "execution_count": 61,
   "id": "03d4a15c-8f8d-4f64-9b45-4564d5696bea",
   "metadata": {},
   "outputs": [
    {
     "data": {
      "text/html": [
       "<div>\n",
       "<style scoped>\n",
       "    .dataframe tbody tr th:only-of-type {\n",
       "        vertical-align: middle;\n",
       "    }\n",
       "\n",
       "    .dataframe tbody tr th {\n",
       "        vertical-align: top;\n",
       "    }\n",
       "\n",
       "    .dataframe thead th {\n",
       "        text-align: right;\n",
       "    }\n",
       "</style>\n",
       "<table border=\"1\" class=\"dataframe\">\n",
       "  <thead>\n",
       "    <tr style=\"text-align: right;\">\n",
       "      <th></th>\n",
       "      <th>5</th>\n",
       "      <th>8</th>\n",
       "      <th>10</th>\n",
       "      <th>11</th>\n",
       "      <th>12</th>\n",
       "      <th>13</th>\n",
       "      <th>14</th>\n",
       "    </tr>\n",
       "  </thead>\n",
       "  <tbody>\n",
       "    <tr>\n",
       "      <th>0</th>\n",
       "      <td>-0.027918</td>\n",
       "      <td>-1.000000</td>\n",
       "      <td>0.001888</td>\n",
       "      <td>2.555947</td>\n",
       "      <td>-64.208613</td>\n",
       "      <td>0.470329</td>\n",
       "      <td>0.525065</td>\n",
       "    </tr>\n",
       "    <tr>\n",
       "      <th>1</th>\n",
       "      <td>0.999851</td>\n",
       "      <td>1.000000</td>\n",
       "      <td>2.359228</td>\n",
       "      <td>0.571917</td>\n",
       "      <td>-110.318854</td>\n",
       "      <td>-2.620978</td>\n",
       "      <td>-0.910418</td>\n",
       "    </tr>\n",
       "    <tr>\n",
       "      <th>2</th>\n",
       "      <td>0.608310</td>\n",
       "      <td>0.999995</td>\n",
       "      <td>133.811870</td>\n",
       "      <td>1.160380</td>\n",
       "      <td>-206.238816</td>\n",
       "      <td>-1.006502</td>\n",
       "      <td>-1.598523</td>\n",
       "    </tr>\n",
       "    <tr>\n",
       "      <th>3</th>\n",
       "      <td>0.999864</td>\n",
       "      <td>-1.000000</td>\n",
       "      <td>85.009772</td>\n",
       "      <td>-1.401234</td>\n",
       "      <td>92.624296</td>\n",
       "      <td>2.712139</td>\n",
       "      <td>3.248977</td>\n",
       "    </tr>\n",
       "    <tr>\n",
       "      <th>4</th>\n",
       "      <td>-0.594711</td>\n",
       "      <td>-1.000000</td>\n",
       "      <td>9.153251</td>\n",
       "      <td>-0.157479</td>\n",
       "      <td>-175.895074</td>\n",
       "      <td>-0.832795</td>\n",
       "      <td>-0.565688</td>\n",
       "    </tr>\n",
       "  </tbody>\n",
       "</table>\n",
       "</div>"
      ],
      "text/plain": [
       "         5         8           10        11          12        13        14\n",
       "0 -0.027918 -1.000000    0.001888  2.555947  -64.208613  0.470329  0.525065\n",
       "1  0.999851  1.000000    2.359228  0.571917 -110.318854 -2.620978 -0.910418\n",
       "2  0.608310  0.999995  133.811870  1.160380 -206.238816 -1.006502 -1.598523\n",
       "3  0.999864 -1.000000   85.009772 -1.401234   92.624296  2.712139  3.248977\n",
       "4 -0.594711 -1.000000    9.153251 -0.157479 -175.895074 -0.832795 -0.565688"
      ]
     },
     "execution_count": 61,
     "metadata": {},
     "output_type": "execute_result"
    }
   ],
   "source": [
    "X_selected.head()"
   ]
  },
  {
   "cell_type": "markdown",
   "id": "f6c42789-1486-4225-9da8-357ad3424c92",
   "metadata": {},
   "source": [
    "14. Видимо что-то есть в этих признаках.<br>\n",
    "Давайте теперь попробуем построить более комплексную модель, постройте любую модель основную на деревьях.<br>\n",
    "Так же оцените вашу модель с помощью метрики accuracy"
   ]
  },
  {
   "cell_type": "code",
   "execution_count": 35,
   "id": "7f7d96ee-bb72-4a17-b7e9-c7d5b26d4ac3",
   "metadata": {},
   "outputs": [],
   "source": [
    "X = X_selected"
   ]
  },
  {
   "cell_type": "code",
   "execution_count": 36,
   "id": "841cf701-8007-4cf8-be17-20257e1514f6",
   "metadata": {},
   "outputs": [],
   "source": [
    "X_train, X_test, y_train, y_test = train_test_split(X, y, test_size=0.2, random_state=42)\n"
   ]
  },
  {
   "cell_type": "code",
   "execution_count": 37,
   "id": "6e9f8594-2288-453e-a3db-2d2d39a15c8d",
   "metadata": {},
   "outputs": [
    {
     "data": {
      "text/html": [
       "<style>#sk-container-id-3 {color: black;background-color: white;}#sk-container-id-3 pre{padding: 0;}#sk-container-id-3 div.sk-toggleable {background-color: white;}#sk-container-id-3 label.sk-toggleable__label {cursor: pointer;display: block;width: 100%;margin-bottom: 0;padding: 0.3em;box-sizing: border-box;text-align: center;}#sk-container-id-3 label.sk-toggleable__label-arrow:before {content: \"▸\";float: left;margin-right: 0.25em;color: #696969;}#sk-container-id-3 label.sk-toggleable__label-arrow:hover:before {color: black;}#sk-container-id-3 div.sk-estimator:hover label.sk-toggleable__label-arrow:before {color: black;}#sk-container-id-3 div.sk-toggleable__content {max-height: 0;max-width: 0;overflow: hidden;text-align: left;background-color: #f0f8ff;}#sk-container-id-3 div.sk-toggleable__content pre {margin: 0.2em;color: black;border-radius: 0.25em;background-color: #f0f8ff;}#sk-container-id-3 input.sk-toggleable__control:checked~div.sk-toggleable__content {max-height: 200px;max-width: 100%;overflow: auto;}#sk-container-id-3 input.sk-toggleable__control:checked~label.sk-toggleable__label-arrow:before {content: \"▾\";}#sk-container-id-3 div.sk-estimator input.sk-toggleable__control:checked~label.sk-toggleable__label {background-color: #d4ebff;}#sk-container-id-3 div.sk-label input.sk-toggleable__control:checked~label.sk-toggleable__label {background-color: #d4ebff;}#sk-container-id-3 input.sk-hidden--visually {border: 0;clip: rect(1px 1px 1px 1px);clip: rect(1px, 1px, 1px, 1px);height: 1px;margin: -1px;overflow: hidden;padding: 0;position: absolute;width: 1px;}#sk-container-id-3 div.sk-estimator {font-family: monospace;background-color: #f0f8ff;border: 1px dotted black;border-radius: 0.25em;box-sizing: border-box;margin-bottom: 0.5em;}#sk-container-id-3 div.sk-estimator:hover {background-color: #d4ebff;}#sk-container-id-3 div.sk-parallel-item::after {content: \"\";width: 100%;border-bottom: 1px solid gray;flex-grow: 1;}#sk-container-id-3 div.sk-label:hover label.sk-toggleable__label {background-color: #d4ebff;}#sk-container-id-3 div.sk-serial::before {content: \"\";position: absolute;border-left: 1px solid gray;box-sizing: border-box;top: 0;bottom: 0;left: 50%;z-index: 0;}#sk-container-id-3 div.sk-serial {display: flex;flex-direction: column;align-items: center;background-color: white;padding-right: 0.2em;padding-left: 0.2em;position: relative;}#sk-container-id-3 div.sk-item {position: relative;z-index: 1;}#sk-container-id-3 div.sk-parallel {display: flex;align-items: stretch;justify-content: center;background-color: white;position: relative;}#sk-container-id-3 div.sk-item::before, #sk-container-id-3 div.sk-parallel-item::before {content: \"\";position: absolute;border-left: 1px solid gray;box-sizing: border-box;top: 0;bottom: 0;left: 50%;z-index: -1;}#sk-container-id-3 div.sk-parallel-item {display: flex;flex-direction: column;z-index: 1;position: relative;background-color: white;}#sk-container-id-3 div.sk-parallel-item:first-child::after {align-self: flex-end;width: 50%;}#sk-container-id-3 div.sk-parallel-item:last-child::after {align-self: flex-start;width: 50%;}#sk-container-id-3 div.sk-parallel-item:only-child::after {width: 0;}#sk-container-id-3 div.sk-dashed-wrapped {border: 1px dashed gray;margin: 0 0.4em 0.5em 0.4em;box-sizing: border-box;padding-bottom: 0.4em;background-color: white;}#sk-container-id-3 div.sk-label label {font-family: monospace;font-weight: bold;display: inline-block;line-height: 1.2em;}#sk-container-id-3 div.sk-label-container {text-align: center;}#sk-container-id-3 div.sk-container {/* jupyter's `normalize.less` sets `[hidden] { display: none; }` but bootstrap.min.css set `[hidden] { display: none !important; }` so we also need the `!important` here to be able to override the default hidden behavior on the sphinx rendered scikit-learn.org. See: https://github.com/scikit-learn/scikit-learn/issues/21755 */display: inline-block !important;position: relative;}#sk-container-id-3 div.sk-text-repr-fallback {display: none;}</style><div id=\"sk-container-id-3\" class=\"sk-top-container\"><div class=\"sk-text-repr-fallback\"><pre>RandomForestClassifier(random_state=42)</pre><b>In a Jupyter environment, please rerun this cell to show the HTML representation or trust the notebook. <br />On GitHub, the HTML representation is unable to render, please try loading this page with nbviewer.org.</b></div><div class=\"sk-container\" hidden><div class=\"sk-item\"><div class=\"sk-estimator sk-toggleable\"><input class=\"sk-toggleable__control sk-hidden--visually\" id=\"sk-estimator-id-3\" type=\"checkbox\" checked><label for=\"sk-estimator-id-3\" class=\"sk-toggleable__label sk-toggleable__label-arrow\">RandomForestClassifier</label><div class=\"sk-toggleable__content\"><pre>RandomForestClassifier(random_state=42)</pre></div></div></div></div></div>"
      ],
      "text/plain": [
       "RandomForestClassifier(random_state=42)"
      ]
     },
     "execution_count": 37,
     "metadata": {},
     "output_type": "execute_result"
    }
   ],
   "source": [
    "rf_classifier = RandomForestClassifier(random_state=42)\n",
    "rf_classifier.fit(X_train, y_train)"
   ]
  },
  {
   "cell_type": "code",
   "execution_count": 38,
   "id": "9f3f3724-6c51-4822-9c26-804413ee2d73",
   "metadata": {},
   "outputs": [],
   "source": [
    "y_pred_rf = rf_classifier.predict(X_test)"
   ]
  },
  {
   "cell_type": "code",
   "execution_count": 39,
   "id": "b74f9777-17d3-475c-9eaa-519980186a85",
   "metadata": {},
   "outputs": [
    {
     "name": "stdout",
     "output_type": "stream",
     "text": [
      "Random Forest Classifier Accuracy: 0.7755555555555556\n"
     ]
    }
   ],
   "source": [
    "accuracy_rf = accuracy_score(y_test, y_pred_rf)\n",
    "print(f'Random Forest Classifier Accuracy: {accuracy_rf}')"
   ]
  },
  {
   "cell_type": "markdown",
   "id": "d3c2fe39-2672-4c10-acb1-b808717720b8",
   "metadata": {},
   "source": [
    "15. Давайте попробуем применить другой тип модели.<br>\n",
    "Постройте SVM модель и оцените ее accuracy"
   ]
  },
  {
   "cell_type": "code",
   "execution_count": 40,
   "id": "ca86e30e-abdc-40e4-808a-1ff2cabde730",
   "metadata": {},
   "outputs": [],
   "source": [
    "scaler = StandardScaler()\n",
    "X_train_scaled = scaler.fit_transform(X_train)\n",
    "X_test_scaled = scaler.transform(X_test)"
   ]
  },
  {
   "cell_type": "code",
   "execution_count": 41,
   "id": "2701b91a-a5f1-46c4-8b56-17b0ebe7ab51",
   "metadata": {},
   "outputs": [
    {
     "data": {
      "text/html": [
       "<style>#sk-container-id-4 {color: black;background-color: white;}#sk-container-id-4 pre{padding: 0;}#sk-container-id-4 div.sk-toggleable {background-color: white;}#sk-container-id-4 label.sk-toggleable__label {cursor: pointer;display: block;width: 100%;margin-bottom: 0;padding: 0.3em;box-sizing: border-box;text-align: center;}#sk-container-id-4 label.sk-toggleable__label-arrow:before {content: \"▸\";float: left;margin-right: 0.25em;color: #696969;}#sk-container-id-4 label.sk-toggleable__label-arrow:hover:before {color: black;}#sk-container-id-4 div.sk-estimator:hover label.sk-toggleable__label-arrow:before {color: black;}#sk-container-id-4 div.sk-toggleable__content {max-height: 0;max-width: 0;overflow: hidden;text-align: left;background-color: #f0f8ff;}#sk-container-id-4 div.sk-toggleable__content pre {margin: 0.2em;color: black;border-radius: 0.25em;background-color: #f0f8ff;}#sk-container-id-4 input.sk-toggleable__control:checked~div.sk-toggleable__content {max-height: 200px;max-width: 100%;overflow: auto;}#sk-container-id-4 input.sk-toggleable__control:checked~label.sk-toggleable__label-arrow:before {content: \"▾\";}#sk-container-id-4 div.sk-estimator input.sk-toggleable__control:checked~label.sk-toggleable__label {background-color: #d4ebff;}#sk-container-id-4 div.sk-label input.sk-toggleable__control:checked~label.sk-toggleable__label {background-color: #d4ebff;}#sk-container-id-4 input.sk-hidden--visually {border: 0;clip: rect(1px 1px 1px 1px);clip: rect(1px, 1px, 1px, 1px);height: 1px;margin: -1px;overflow: hidden;padding: 0;position: absolute;width: 1px;}#sk-container-id-4 div.sk-estimator {font-family: monospace;background-color: #f0f8ff;border: 1px dotted black;border-radius: 0.25em;box-sizing: border-box;margin-bottom: 0.5em;}#sk-container-id-4 div.sk-estimator:hover {background-color: #d4ebff;}#sk-container-id-4 div.sk-parallel-item::after {content: \"\";width: 100%;border-bottom: 1px solid gray;flex-grow: 1;}#sk-container-id-4 div.sk-label:hover label.sk-toggleable__label {background-color: #d4ebff;}#sk-container-id-4 div.sk-serial::before {content: \"\";position: absolute;border-left: 1px solid gray;box-sizing: border-box;top: 0;bottom: 0;left: 50%;z-index: 0;}#sk-container-id-4 div.sk-serial {display: flex;flex-direction: column;align-items: center;background-color: white;padding-right: 0.2em;padding-left: 0.2em;position: relative;}#sk-container-id-4 div.sk-item {position: relative;z-index: 1;}#sk-container-id-4 div.sk-parallel {display: flex;align-items: stretch;justify-content: center;background-color: white;position: relative;}#sk-container-id-4 div.sk-item::before, #sk-container-id-4 div.sk-parallel-item::before {content: \"\";position: absolute;border-left: 1px solid gray;box-sizing: border-box;top: 0;bottom: 0;left: 50%;z-index: -1;}#sk-container-id-4 div.sk-parallel-item {display: flex;flex-direction: column;z-index: 1;position: relative;background-color: white;}#sk-container-id-4 div.sk-parallel-item:first-child::after {align-self: flex-end;width: 50%;}#sk-container-id-4 div.sk-parallel-item:last-child::after {align-self: flex-start;width: 50%;}#sk-container-id-4 div.sk-parallel-item:only-child::after {width: 0;}#sk-container-id-4 div.sk-dashed-wrapped {border: 1px dashed gray;margin: 0 0.4em 0.5em 0.4em;box-sizing: border-box;padding-bottom: 0.4em;background-color: white;}#sk-container-id-4 div.sk-label label {font-family: monospace;font-weight: bold;display: inline-block;line-height: 1.2em;}#sk-container-id-4 div.sk-label-container {text-align: center;}#sk-container-id-4 div.sk-container {/* jupyter's `normalize.less` sets `[hidden] { display: none; }` but bootstrap.min.css set `[hidden] { display: none !important; }` so we also need the `!important` here to be able to override the default hidden behavior on the sphinx rendered scikit-learn.org. See: https://github.com/scikit-learn/scikit-learn/issues/21755 */display: inline-block !important;position: relative;}#sk-container-id-4 div.sk-text-repr-fallback {display: none;}</style><div id=\"sk-container-id-4\" class=\"sk-top-container\"><div class=\"sk-text-repr-fallback\"><pre>SVC(random_state=42)</pre><b>In a Jupyter environment, please rerun this cell to show the HTML representation or trust the notebook. <br />On GitHub, the HTML representation is unable to render, please try loading this page with nbviewer.org.</b></div><div class=\"sk-container\" hidden><div class=\"sk-item\"><div class=\"sk-estimator sk-toggleable\"><input class=\"sk-toggleable__control sk-hidden--visually\" id=\"sk-estimator-id-4\" type=\"checkbox\" checked><label for=\"sk-estimator-id-4\" class=\"sk-toggleable__label sk-toggleable__label-arrow\">SVC</label><div class=\"sk-toggleable__content\"><pre>SVC(random_state=42)</pre></div></div></div></div></div>"
      ],
      "text/plain": [
       "SVC(random_state=42)"
      ]
     },
     "execution_count": 41,
     "metadata": {},
     "output_type": "execute_result"
    }
   ],
   "source": [
    "svm_model = SVC(kernel='rbf', random_state=42)\n",
    "svm_model.fit(X_train_scaled, y_train)"
   ]
  },
  {
   "cell_type": "code",
   "execution_count": 42,
   "id": "45b574e9-82d7-4f8a-b692-f7ecde9d794d",
   "metadata": {},
   "outputs": [],
   "source": [
    "y_pred = svm_model.predict(X_test_scaled)"
   ]
  },
  {
   "cell_type": "code",
   "execution_count": 43,
   "id": "a9640fc4-470c-4f8f-acef-01a510597ee9",
   "metadata": {},
   "outputs": [
    {
     "name": "stdout",
     "output_type": "stream",
     "text": [
      "Accuracy: 0.7761111111111111\n"
     ]
    }
   ],
   "source": [
    "accuracy = accuracy_score(y_test, y_pred)\n",
    "print(f'Accuracy: {accuracy}')"
   ]
  },
  {
   "cell_type": "markdown",
   "id": "627ad732-7581-4862-8d6b-d8ae3a018556",
   "metadata": {},
   "source": [
    "15. Давайте попробуем применить другой тип модели.<br>\n",
    "Постройте KNN модель и оцените ее accuracy"
   ]
  },
  {
   "cell_type": "code",
   "execution_count": 44,
   "id": "763efacf-2d9a-47b2-9942-a84711795a0d",
   "metadata": {},
   "outputs": [
    {
     "data": {
      "text/html": [
       "<style>#sk-container-id-5 {color: black;background-color: white;}#sk-container-id-5 pre{padding: 0;}#sk-container-id-5 div.sk-toggleable {background-color: white;}#sk-container-id-5 label.sk-toggleable__label {cursor: pointer;display: block;width: 100%;margin-bottom: 0;padding: 0.3em;box-sizing: border-box;text-align: center;}#sk-container-id-5 label.sk-toggleable__label-arrow:before {content: \"▸\";float: left;margin-right: 0.25em;color: #696969;}#sk-container-id-5 label.sk-toggleable__label-arrow:hover:before {color: black;}#sk-container-id-5 div.sk-estimator:hover label.sk-toggleable__label-arrow:before {color: black;}#sk-container-id-5 div.sk-toggleable__content {max-height: 0;max-width: 0;overflow: hidden;text-align: left;background-color: #f0f8ff;}#sk-container-id-5 div.sk-toggleable__content pre {margin: 0.2em;color: black;border-radius: 0.25em;background-color: #f0f8ff;}#sk-container-id-5 input.sk-toggleable__control:checked~div.sk-toggleable__content {max-height: 200px;max-width: 100%;overflow: auto;}#sk-container-id-5 input.sk-toggleable__control:checked~label.sk-toggleable__label-arrow:before {content: \"▾\";}#sk-container-id-5 div.sk-estimator input.sk-toggleable__control:checked~label.sk-toggleable__label {background-color: #d4ebff;}#sk-container-id-5 div.sk-label input.sk-toggleable__control:checked~label.sk-toggleable__label {background-color: #d4ebff;}#sk-container-id-5 input.sk-hidden--visually {border: 0;clip: rect(1px 1px 1px 1px);clip: rect(1px, 1px, 1px, 1px);height: 1px;margin: -1px;overflow: hidden;padding: 0;position: absolute;width: 1px;}#sk-container-id-5 div.sk-estimator {font-family: monospace;background-color: #f0f8ff;border: 1px dotted black;border-radius: 0.25em;box-sizing: border-box;margin-bottom: 0.5em;}#sk-container-id-5 div.sk-estimator:hover {background-color: #d4ebff;}#sk-container-id-5 div.sk-parallel-item::after {content: \"\";width: 100%;border-bottom: 1px solid gray;flex-grow: 1;}#sk-container-id-5 div.sk-label:hover label.sk-toggleable__label {background-color: #d4ebff;}#sk-container-id-5 div.sk-serial::before {content: \"\";position: absolute;border-left: 1px solid gray;box-sizing: border-box;top: 0;bottom: 0;left: 50%;z-index: 0;}#sk-container-id-5 div.sk-serial {display: flex;flex-direction: column;align-items: center;background-color: white;padding-right: 0.2em;padding-left: 0.2em;position: relative;}#sk-container-id-5 div.sk-item {position: relative;z-index: 1;}#sk-container-id-5 div.sk-parallel {display: flex;align-items: stretch;justify-content: center;background-color: white;position: relative;}#sk-container-id-5 div.sk-item::before, #sk-container-id-5 div.sk-parallel-item::before {content: \"\";position: absolute;border-left: 1px solid gray;box-sizing: border-box;top: 0;bottom: 0;left: 50%;z-index: -1;}#sk-container-id-5 div.sk-parallel-item {display: flex;flex-direction: column;z-index: 1;position: relative;background-color: white;}#sk-container-id-5 div.sk-parallel-item:first-child::after {align-self: flex-end;width: 50%;}#sk-container-id-5 div.sk-parallel-item:last-child::after {align-self: flex-start;width: 50%;}#sk-container-id-5 div.sk-parallel-item:only-child::after {width: 0;}#sk-container-id-5 div.sk-dashed-wrapped {border: 1px dashed gray;margin: 0 0.4em 0.5em 0.4em;box-sizing: border-box;padding-bottom: 0.4em;background-color: white;}#sk-container-id-5 div.sk-label label {font-family: monospace;font-weight: bold;display: inline-block;line-height: 1.2em;}#sk-container-id-5 div.sk-label-container {text-align: center;}#sk-container-id-5 div.sk-container {/* jupyter's `normalize.less` sets `[hidden] { display: none; }` but bootstrap.min.css set `[hidden] { display: none !important; }` so we also need the `!important` here to be able to override the default hidden behavior on the sphinx rendered scikit-learn.org. See: https://github.com/scikit-learn/scikit-learn/issues/21755 */display: inline-block !important;position: relative;}#sk-container-id-5 div.sk-text-repr-fallback {display: none;}</style><div id=\"sk-container-id-5\" class=\"sk-top-container\"><div class=\"sk-text-repr-fallback\"><pre>KNeighborsClassifier()</pre><b>In a Jupyter environment, please rerun this cell to show the HTML representation or trust the notebook. <br />On GitHub, the HTML representation is unable to render, please try loading this page with nbviewer.org.</b></div><div class=\"sk-container\" hidden><div class=\"sk-item\"><div class=\"sk-estimator sk-toggleable\"><input class=\"sk-toggleable__control sk-hidden--visually\" id=\"sk-estimator-id-5\" type=\"checkbox\" checked><label for=\"sk-estimator-id-5\" class=\"sk-toggleable__label sk-toggleable__label-arrow\">KNeighborsClassifier</label><div class=\"sk-toggleable__content\"><pre>KNeighborsClassifier()</pre></div></div></div></div></div>"
      ],
      "text/plain": [
       "KNeighborsClassifier()"
      ]
     },
     "execution_count": 44,
     "metadata": {},
     "output_type": "execute_result"
    }
   ],
   "source": [
    "knn_model = KNeighborsClassifier(n_neighbors=5)\n",
    "knn_model.fit(X_train_scaled, y_train)"
   ]
  },
  {
   "cell_type": "code",
   "execution_count": 45,
   "id": "9ee092c9-abad-44c2-a472-f1517c1dfb7a",
   "metadata": {},
   "outputs": [],
   "source": [
    "y_pred = knn_model.predict(X_test_scaled)"
   ]
  },
  {
   "cell_type": "code",
   "execution_count": 46,
   "id": "a46aa4e4-a838-4956-9e5b-7ef4fd35f49e",
   "metadata": {},
   "outputs": [
    {
     "name": "stdout",
     "output_type": "stream",
     "text": [
      "Accuracy: 0.7572222222222222\n"
     ]
    }
   ],
   "source": [
    "accuracy = accuracy_score(y_test, y_pred)\n",
    "print(f'Accuracy: {accuracy}')"
   ]
  },
  {
   "cell_type": "code",
   "execution_count": 47,
   "id": "ad8375da-cee9-4cb8-ac71-03bb53844922",
   "metadata": {},
   "outputs": [],
   "source": [
    "label_map = {\"Low Income\": 0, \"Medium Income\": 1, \"High Income\": 2}\n",
    "y_pred_int = np.vectorize(label_map.get)(y_pred)"
   ]
  },
  {
   "cell_type": "code",
   "execution_count": 48,
   "id": "b1cd6170-6012-4fab-8da3-49d67a471fd8",
   "metadata": {},
   "outputs": [],
   "source": [
    "# Create a DataFrame for submission\n",
    "submission_df1 = pd.DataFrame({'ID': range(len(y_pred_int)), 'cat_target': y_pred_int})"
   ]
  },
  {
   "cell_type": "code",
   "execution_count": 49,
   "id": "d3f59986-c517-4abc-8c17-dcf2622faf16",
   "metadata": {},
   "outputs": [],
   "source": [
    "submission_df = submission_df1[:1000]"
   ]
  },
  {
   "cell_type": "code",
   "execution_count": 50,
   "id": "1381991c-17df-4674-a07f-cd584b07793f",
   "metadata": {},
   "outputs": [
    {
     "name": "stdout",
     "output_type": "stream",
     "text": [
      "1000\n"
     ]
    }
   ],
   "source": [
    "print(len(submission_df))"
   ]
  },
  {
   "cell_type": "code",
   "execution_count": 51,
   "id": "01e442d8-7d9e-41c0-816e-8a9e1499d04e",
   "metadata": {},
   "outputs": [],
   "source": [
    "# Save the submission file\n",
    "submission_df.to_csv('submission.csv', index=False)"
   ]
  },
  {
   "cell_type": "markdown",
   "id": "36aea534-3b3c-4d2e-84ec-ec39f38664b6",
   "metadata": {},
   "source": [
    "### Отправляем работы\n",
    "Ну чтож думаю вы попробовали разные модели, надеюсь вы находили лучшие гиперпараметры, ведь пора соревноваться в результатах.<br>\n",
    "Для этого вам нужно скачать 'test_dataset.csv'<br>\n",
    "Применить все преобразования что вы делали на стадии обучения модели<br>\n",
    "Выбрать вашу лучшую модель и сделать предсказания классов для этого датасета<br>\n",
    "Внимание ваш результат должен быть csv файлом состоящим из двух колонок: ID (от 0 до 999) и cat_target (ваши прогнозы 0/1/2)\n",
    "Отправить свои результаты вы можете на соревнование Kaggle по ссылке: https://www.kaggle.com/t/6fcb93642fe949aa9c6fb7875fb1b64e<br>\n"
   ]
  },
  {
   "cell_type": "code",
   "execution_count": 52,
   "id": "a4681517-945d-4cd2-be0f-900931eb8ec9",
   "metadata": {},
   "outputs": [],
   "source": [
    "test = y_test[:1000]\n",
    "predic = y_pred[:1000]"
   ]
  },
  {
   "cell_type": "code",
   "execution_count": 53,
   "id": "e69d1e73-30c8-4a67-93bf-c61de23407f9",
   "metadata": {},
   "outputs": [
    {
     "name": "stdout",
     "output_type": "stream",
     "text": [
      "Accuracy: 0.748\n"
     ]
    }
   ],
   "source": [
    "accuracy = accuracy_score(test, predic)\n",
    "print(f'Accuracy: {accuracy}')"
   ]
  },
  {
   "cell_type": "code",
   "execution_count": null,
   "id": "66157cb3-ba74-4390-9697-05cfbdeb97da",
   "metadata": {},
   "outputs": [],
   "source": []
  },
  {
   "cell_type": "code",
   "execution_count": 54,
   "id": "b0d88e6c-a49b-4fa5-a034-0d271b6227dc",
   "metadata": {},
   "outputs": [],
   "source": [
    "final = pd.read_csv(\"test_dataset.csv\")"
   ]
  },
  {
   "cell_type": "code",
   "execution_count": 55,
   "id": "0008d30f-6cf8-4691-b31d-ab1866541fa8",
   "metadata": {},
   "outputs": [
    {
     "data": {
      "text/html": [
       "<div>\n",
       "<style scoped>\n",
       "    .dataframe tbody tr th:only-of-type {\n",
       "        vertical-align: middle;\n",
       "    }\n",
       "\n",
       "    .dataframe tbody tr th {\n",
       "        vertical-align: top;\n",
       "    }\n",
       "\n",
       "    .dataframe thead th {\n",
       "        text-align: right;\n",
       "    }\n",
       "</style>\n",
       "<table border=\"1\" class=\"dataframe\">\n",
       "  <thead>\n",
       "    <tr style=\"text-align: right;\">\n",
       "      <th></th>\n",
       "      <th>feature_1</th>\n",
       "      <th>feature_2</th>\n",
       "      <th>feature_3</th>\n",
       "      <th>feature_4</th>\n",
       "      <th>feature_5</th>\n",
       "      <th>feature_6</th>\n",
       "      <th>feature_7</th>\n",
       "      <th>feature_8</th>\n",
       "      <th>feature_9</th>\n",
       "      <th>feature_10</th>\n",
       "      <th>feature_11</th>\n",
       "      <th>feature_12</th>\n",
       "      <th>feature_13</th>\n",
       "      <th>feature_14</th>\n",
       "      <th>feature_15</th>\n",
       "      <th>feature_16</th>\n",
       "      <th>feature_17</th>\n",
       "      <th>feature_18</th>\n",
       "      <th>feature_19</th>\n",
       "      <th>feature_20</th>\n",
       "    </tr>\n",
       "  </thead>\n",
       "  <tbody>\n",
       "    <tr>\n",
       "      <th>0</th>\n",
       "      <td>3.629075</td>\n",
       "      <td>0.817774</td>\n",
       "      <td>0.129687</td>\n",
       "      <td>6.219642</td>\n",
       "      <td>0.999992</td>\n",
       "      <td>-58.751555</td>\n",
       "      <td>13.170185</td>\n",
       "      <td>-2.265941</td>\n",
       "      <td>163.600359</td>\n",
       "      <td>-0.590149</td>\n",
       "      <td>1.724402</td>\n",
       "      <td>A</td>\n",
       "      <td>115.782973</td>\n",
       "      <td>102.383110</td>\n",
       "      <td>75.750290</td>\n",
       "      <td>82.670555</td>\n",
       "      <td>88.398872</td>\n",
       "      <td>78.034384</td>\n",
       "      <td>124.881643</td>\n",
       "      <td>130.904343</td>\n",
       "    </tr>\n",
       "    <tr>\n",
       "      <th>1</th>\n",
       "      <td>-23.283759</td>\n",
       "      <td>-0.086293</td>\n",
       "      <td>0.508258</td>\n",
       "      <td>-9.114238</td>\n",
       "      <td>-1.000000</td>\n",
       "      <td>39.000794</td>\n",
       "      <td>542.133433</td>\n",
       "      <td>3.903423</td>\n",
       "      <td>-35.206871</td>\n",
       "      <td>0.184453</td>\n",
       "      <td>0.352388</td>\n",
       "      <td>D</td>\n",
       "      <td>110.274900</td>\n",
       "      <td>82.267629</td>\n",
       "      <td>98.946475</td>\n",
       "      <td>93.449254</td>\n",
       "      <td>80.750636</td>\n",
       "      <td>70.362057</td>\n",
       "      <td>118.437830</td>\n",
       "      <td>88.459522</td>\n",
       "    </tr>\n",
       "    <tr>\n",
       "      <th>2</th>\n",
       "      <td>2.842355</td>\n",
       "      <td>-0.987547</td>\n",
       "      <td>1.525673</td>\n",
       "      <td>-10.430008</td>\n",
       "      <td>-1.000000</td>\n",
       "      <td>-92.206528</td>\n",
       "      <td>8.078982</td>\n",
       "      <td>0.329318</td>\n",
       "      <td>-180.770230</td>\n",
       "      <td>-0.204815</td>\n",
       "      <td>-0.648555</td>\n",
       "      <td>B</td>\n",
       "      <td>93.094432</td>\n",
       "      <td>91.407737</td>\n",
       "      <td>105.507571</td>\n",
       "      <td>135.199911</td>\n",
       "      <td>101.494074</td>\n",
       "      <td>105.644610</td>\n",
       "      <td>101.121831</td>\n",
       "      <td>93.372128</td>\n",
       "    </tr>\n",
       "    <tr>\n",
       "      <th>3</th>\n",
       "      <td>-22.069979</td>\n",
       "      <td>-0.158082</td>\n",
       "      <td>7.572780</td>\n",
       "      <td>3.447535</td>\n",
       "      <td>0.997977</td>\n",
       "      <td>-173.333256</td>\n",
       "      <td>487.083984</td>\n",
       "      <td>2.533396</td>\n",
       "      <td>-146.763360</td>\n",
       "      <td>-1.238702</td>\n",
       "      <td>-0.072297</td>\n",
       "      <td>B</td>\n",
       "      <td>137.142645</td>\n",
       "      <td>109.992174</td>\n",
       "      <td>80.176218</td>\n",
       "      <td>142.513692</td>\n",
       "      <td>127.017116</td>\n",
       "      <td>88.508838</td>\n",
       "      <td>118.327166</td>\n",
       "      <td>91.573769</td>\n",
       "    </tr>\n",
       "    <tr>\n",
       "      <th>4</th>\n",
       "      <td>-7.702941</td>\n",
       "      <td>0.421435</td>\n",
       "      <td>0.407912</td>\n",
       "      <td>-6.168170</td>\n",
       "      <td>-0.999991</td>\n",
       "      <td>84.132138</td>\n",
       "      <td>59.335303</td>\n",
       "      <td>-1.125035</td>\n",
       "      <td>153.894943</td>\n",
       "      <td>-0.039970</td>\n",
       "      <td>-2.440906</td>\n",
       "      <td>B</td>\n",
       "      <td>130.685865</td>\n",
       "      <td>92.336227</td>\n",
       "      <td>95.847169</td>\n",
       "      <td>114.405540</td>\n",
       "      <td>117.925669</td>\n",
       "      <td>115.024795</td>\n",
       "      <td>104.837486</td>\n",
       "      <td>115.718165</td>\n",
       "    </tr>\n",
       "  </tbody>\n",
       "</table>\n",
       "</div>"
      ],
      "text/plain": [
       "   feature_1  feature_2  feature_3  feature_4  feature_5   feature_6  \\\n",
       "0   3.629075   0.817774   0.129687   6.219642   0.999992  -58.751555   \n",
       "1 -23.283759  -0.086293   0.508258  -9.114238  -1.000000   39.000794   \n",
       "2   2.842355  -0.987547   1.525673 -10.430008  -1.000000  -92.206528   \n",
       "3 -22.069979  -0.158082   7.572780   3.447535   0.997977 -173.333256   \n",
       "4  -7.702941   0.421435   0.407912  -6.168170  -0.999991   84.132138   \n",
       "\n",
       "    feature_7  feature_8   feature_9  feature_10  feature_11 feature_12  \\\n",
       "0   13.170185  -2.265941  163.600359   -0.590149    1.724402          A   \n",
       "1  542.133433   3.903423  -35.206871    0.184453    0.352388          D   \n",
       "2    8.078982   0.329318 -180.770230   -0.204815   -0.648555          B   \n",
       "3  487.083984   2.533396 -146.763360   -1.238702   -0.072297          B   \n",
       "4   59.335303  -1.125035  153.894943   -0.039970   -2.440906          B   \n",
       "\n",
       "   feature_13  feature_14  feature_15  feature_16  feature_17  feature_18  \\\n",
       "0  115.782973  102.383110   75.750290   82.670555   88.398872   78.034384   \n",
       "1  110.274900   82.267629   98.946475   93.449254   80.750636   70.362057   \n",
       "2   93.094432   91.407737  105.507571  135.199911  101.494074  105.644610   \n",
       "3  137.142645  109.992174   80.176218  142.513692  127.017116   88.508838   \n",
       "4  130.685865   92.336227   95.847169  114.405540  117.925669  115.024795   \n",
       "\n",
       "   feature_19  feature_20  \n",
       "0  124.881643  130.904343  \n",
       "1  118.437830   88.459522  \n",
       "2  101.121831   93.372128  \n",
       "3  118.327166   91.573769  \n",
       "4  104.837486  115.718165  "
      ]
     },
     "execution_count": 55,
     "metadata": {},
     "output_type": "execute_result"
    }
   ],
   "source": [
    "final.head()"
   ]
  },
  {
   "cell_type": "code",
   "execution_count": 56,
   "id": "fc3edbd4-4625-48d1-a798-c891184a12f3",
   "metadata": {},
   "outputs": [
    {
     "data": {
      "text/plain": [
       "(1000, 20)"
      ]
     },
     "execution_count": 56,
     "metadata": {},
     "output_type": "execute_result"
    }
   ],
   "source": [
    "final.shape"
   ]
  },
  {
   "cell_type": "code",
   "execution_count": 57,
   "id": "efba7a4f-c344-4ac1-95dc-e1d1e0d94156",
   "metadata": {},
   "outputs": [
    {
     "name": "stdout",
     "output_type": "stream",
     "text": [
      "    0    1    2    3          4         5         6          7         8   \\\n",
      "0  1.0  0.0  0.0  0.0   3.629075  0.817774  0.129687   6.219642  0.999992   \n",
      "1  0.0  0.0  0.0  1.0 -23.283759 -0.086293  0.508258  -9.114238 -1.000000   \n",
      "2  0.0  1.0  0.0  0.0   2.842355 -0.987547  1.525673 -10.430008 -1.000000   \n",
      "3  0.0  1.0  0.0  0.0 -22.069979 -0.158082  7.572780   3.447535  0.997977   \n",
      "4  0.0  1.0  0.0  0.0  -7.702941  0.421435  0.407912  -6.168170 -0.999991   \n",
      "\n",
      "           9   ...        13        14          15          16          17  \\\n",
      "0  -58.751555  ... -0.590149  1.724402  115.782973  102.383110   75.750290   \n",
      "1   39.000794  ...  0.184453  0.352388  110.274900   82.267629   98.946475   \n",
      "2  -92.206528  ... -0.204815 -0.648555   93.094432   91.407737  105.507571   \n",
      "3 -173.333256  ... -1.238702 -0.072297  137.142645  109.992174   80.176218   \n",
      "4   84.132138  ... -0.039970 -2.440906  130.685865   92.336227   95.847169   \n",
      "\n",
      "           18          19          20          21          22  \n",
      "0   82.670555   88.398872   78.034384  124.881643  130.904343  \n",
      "1   93.449254   80.750636   70.362057  118.437830   88.459522  \n",
      "2  135.199911  101.494074  105.644610  101.121831   93.372128  \n",
      "3  142.513692  127.017116   88.508838  118.327166   91.573769  \n",
      "4  114.405540  117.925669  115.024795  104.837486  115.718165  \n",
      "\n",
      "[5 rows x 23 columns]\n"
     ]
    }
   ],
   "source": [
    "final_columns_to_encode = ['feature_12']\n",
    "onehot_encoder = OneHotEncoder()\n",
    "final_column_transformer = ColumnTransformer([('onehot_encoder', onehot_encoder, final_columns_to_encode)],\n",
    "                                        remainder='passthrough')\n",
    "final_encoded = column_transformer.fit_transform(final)\n",
    "final_encoded_df = pd.DataFrame(final_encoded)\n",
    "print(final_encoded_df.head())"
   ]
  },
  {
   "cell_type": "code",
   "execution_count": 68,
   "id": "c44855bb-5c25-4b6a-8d24-5d32ee9774c8",
   "metadata": {},
   "outputs": [],
   "source": [
    "f_selected_columns = [5, 8, 10, 11, 12, 13, 14]\n",
    "final_selected = final_encoded_df[f_selected_columns]"
   ]
  },
  {
   "cell_type": "code",
   "execution_count": 69,
   "id": "7e8a5f35-7878-4dae-a61a-d2ce998bd482",
   "metadata": {},
   "outputs": [],
   "source": [
    "scaler = StandardScaler()\n",
    "X_train_scaled = scaler.fit_transform(X_train)\n",
    "X_test_scaled = scaler.transform(final_selected)"
   ]
  },
  {
   "cell_type": "code",
   "execution_count": 70,
   "id": "0cbe8f18-0a94-4430-82c4-2dea8156b833",
   "metadata": {},
   "outputs": [],
   "source": [
    "final_pred = knn_model.predict(X_test_scaled)"
   ]
  },
  {
   "cell_type": "code",
   "execution_count": 71,
   "id": "a3e201f8-b459-4fbd-b25f-b6be7bfef794",
   "metadata": {},
   "outputs": [],
   "source": [
    "label_map = {\"Low Income\": 0, \"Medium Income\": 1, \"High Income\": 2}\n",
    "y_pred_int = np.vectorize(label_map.get)(final_pred)"
   ]
  },
  {
   "cell_type": "code",
   "execution_count": 72,
   "id": "633b16e7-7ac0-4d55-ba5c-3b037856a761",
   "metadata": {},
   "outputs": [],
   "source": [
    "submission_df1 = pd.DataFrame({'ID': range(len(y_pred_int)), 'cat_target': y_pred_int})"
   ]
  },
  {
   "cell_type": "code",
   "execution_count": 73,
   "id": "9bf904a4-500d-424f-b887-9a72512b10fe",
   "metadata": {},
   "outputs": [],
   "source": [
    "submission_df = submission_df1[:1000]"
   ]
  },
  {
   "cell_type": "code",
   "execution_count": 74,
   "id": "0288da20-6398-4870-a904-afcbf52495eb",
   "metadata": {},
   "outputs": [
    {
     "name": "stdout",
     "output_type": "stream",
     "text": [
      "1000\n"
     ]
    }
   ],
   "source": [
    "print(len(submission_df))"
   ]
  },
  {
   "cell_type": "code",
   "execution_count": null,
   "id": "0b621464-67c1-4757-add6-96867dca54c9",
   "metadata": {},
   "outputs": [],
   "source": []
  },
  {
   "cell_type": "code",
   "execution_count": null,
   "id": "f75babe2-0e5d-4306-a5df-3d9f483ec071",
   "metadata": {},
   "outputs": [],
   "source": []
  },
  {
   "cell_type": "code",
   "execution_count": null,
   "id": "30498609-e916-4193-b343-6f14dba804c6",
   "metadata": {},
   "outputs": [],
   "source": []
  },
  {
   "cell_type": "code",
   "execution_count": null,
   "id": "d13dd241-b80f-49a9-ab9a-487c3f4b2909",
   "metadata": {},
   "outputs": [],
   "source": []
  },
  {
   "cell_type": "code",
   "execution_count": null,
   "id": "bfef8cf6-b807-48a9-8d6c-74fb60351053",
   "metadata": {},
   "outputs": [],
   "source": []
  }
 ],
 "metadata": {
  "kernelspec": {
   "display_name": "Python 3 (ipykernel)",
   "language": "python",
   "name": "python3"
  },
  "language_info": {
   "codemirror_mode": {
    "name": "ipython",
    "version": 3
   },
   "file_extension": ".py",
   "mimetype": "text/x-python",
   "name": "python",
   "nbconvert_exporter": "python",
   "pygments_lexer": "ipython3",
   "version": "3.11.8"
  }
 },
 "nbformat": 4,
 "nbformat_minor": 5
}
